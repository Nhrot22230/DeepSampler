{
 "cells": [
  {
   "cell_type": "code",
   "execution_count": null,
   "metadata": {},
   "outputs": [],
   "source": [
    "import os\n",
    "import sys\n",
    "\n",
    "project_root = os.getcwd()\n",
    "while \"src\" not in os.listdir(project_root):\n",
    "    project_root = os.path.dirname(project_root)\n",
    "sys.path.append(project_root)"
   ]
  },
  {
   "cell_type": "code",
   "execution_count": null,
   "metadata": {},
   "outputs": [],
   "source": [
    "import torch\n",
    "import torch.optim as optim\n",
    "from torch.optim.lr_scheduler import StepLR, ReduceLROnPlateau\n",
    "import matplotlib.pyplot as plt\n",
    "from src.pipelines import musdb_pipeline, train_pipeline, eval_pipeline, infer_pipeline\n",
    "from src.models import DeepSampler, SCUNet, SimpleUNet\n",
    "from src.utils.training import MultiSourceLoss, VGGFeatureLoss, MultiScaleLoss\n",
    "\n",
    "\n",
    "plt.rcParams[\"figure.figsize\"] = [20, 6]\n",
    "device = torch.device(\"cuda\" if torch.cuda.is_available() else \"cpu\")"
   ]
  },
  {
   "cell_type": "code",
   "execution_count": null,
   "metadata": {},
   "outputs": [],
   "source": [
    "nfft = 2048\n",
    "hop_length = 512\n",
    "window = torch.hann_window(nfft)\n",
    "chunk_seconds = 2\n",
    "overlap = 0\n",
    "sr = 44100\n",
    "\n",
    "data_root = os.path.join(project_root, \"data\")\n",
    "musdb_root = os.path.join(data_root, \"musdb18hq\")\n",
    "\n",
    "if not os.path.exists(data_root):\n",
    "    raise FileNotFoundError(\n",
    "        \"No se encontró la carpeta data, por favor ejecute el script download_data.sh antes de ejecutar este script.\"\n",
    "    )"
   ]
  },
  {
   "cell_type": "code",
   "execution_count": null,
   "metadata": {},
   "outputs": [],
   "source": [
    "train_dataset = musdb_pipeline(\n",
    "    musdb_path=os.path.join(musdb_root, \"train\"),\n",
    "    nfft=nfft,\n",
    "    hop_length=hop_length,\n",
    "    window=window,\n",
    "    chunk_seconds=chunk_seconds,\n",
    "    overlap=overlap,\n",
    "    sample_rate=sr,\n",
    ")\n",
    "\n",
    "test_dataset = musdb_pipeline(\n",
    "    musdb_path=os.path.join(musdb_root, \"test\"),\n",
    "    nfft=nfft,\n",
    "    hop_length=hop_length,\n",
    "    window=window,\n",
    "    chunk_seconds=chunk_seconds,\n",
    "    overlap=overlap,\n",
    "    sample_rate=sr,\n",
    ")"
   ]
  },
  {
   "cell_type": "code",
   "execution_count": null,
   "metadata": {},
   "outputs": [],
   "source": [
    "train_dataloader = torch.utils.data.DataLoader(\n",
    "    train_dataset, batch_size=16, shuffle=True\n",
    ")\n",
    "test_dataloader = torch.utils.data.DataLoader(\n",
    "    test_dataset, batch_size=16, shuffle=False\n",
    ")"
   ]
  },
  {
   "cell_type": "code",
   "execution_count": null,
   "metadata": {},
   "outputs": [],
   "source": [
    "deep_sampler = DeepSampler(\n",
    "    input_channels=1,\n",
    "    output_channels=4,\n",
    "    base_channels=32,\n",
    "    depth=5,\n",
    "    dropout=0.1,\n",
    "    transformer_heads=4,\n",
    "    transformer_layers=4,\n",
    ")\n",
    "optimizer = optim.Adam(deep_sampler.parameters(), lr=1e-3, weight_decay=1e-5)\n",
    "scheduler = StepLR(optimizer, step_size=10, gamma=0.1)\n",
    "criterion = MultiSourceLoss(\n",
    "    weights=[1, 1, 1, 1],\n",
    "    distance=\"l1\",\n",
    ")\n",
    "\n",
    "epochs = 50\n",
    "p1_epochs = 20"
   ]
  },
  {
   "cell_type": "code",
   "execution_count": null,
   "metadata": {},
   "outputs": [],
   "source": [
    "train_pipeline(\n",
    "    model=deep_sampler,\n",
    "    dataloader=train_dataloader,\n",
    "    criterion=criterion,\n",
    "    optimizer=optimizer,\n",
    "    scheduler=scheduler,\n",
    "    total_epochs=epochs,\n",
    "    phase1_epochs=p1_epochs,\n",
    "    device=device,\n",
    ")"
   ]
  },
  {
   "cell_type": "code",
   "execution_count": null,
   "metadata": {},
   "outputs": [],
   "source": [
    "eval_pipeline(\n",
    "    model=deep_sampler,\n",
    "    dataloader=test_dataloader,\n",
    "    device=device,\n",
    ")"
   ]
  }
 ],
 "metadata": {
  "kernelspec": {
   "display_name": "ia_ml",
   "language": "python",
   "name": "python3"
  },
  "language_info": {
   "codemirror_mode": {
    "name": "ipython",
    "version": 3
   },
   "file_extension": ".py",
   "mimetype": "text/x-python",
   "name": "python",
   "nbconvert_exporter": "python",
   "pygments_lexer": "ipython3",
   "version": "3.10.16"
  }
 },
 "nbformat": 4,
 "nbformat_minor": 2
}
