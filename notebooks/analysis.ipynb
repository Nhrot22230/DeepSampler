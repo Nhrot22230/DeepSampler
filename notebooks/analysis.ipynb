{
 "cells": [
  {
   "cell_type": "code",
   "execution_count": null,
   "metadata": {},
   "outputs": [],
   "source": [
    "# working with colab\n",
    "# !pip install torchmetrics\n",
    "# !git clone https://github.com/Nhrot22230/DeepSampler\n",
    "#  !cd DeepSampler && make init\n",
    "\n",
    "# import os\n",
    "# import sys\n",
    "\n",
    "# # Suponiendo que clonaste el repositorio en /content/DeepSampler\n",
    "# project_root = os.path.join(os.getcwd(), \"DeepSampler\")\n",
    "# if project_root not in sys.path:\n",
    "#     sys.path.insert(0, project_root)"
   ]
  },
  {
   "cell_type": "code",
   "execution_count": 1,
   "metadata": {},
   "outputs": [],
   "source": [
    "import os\n",
    "import sys\n",
    "\n",
    "project_root = os.getcwd()\n",
    "while \"src\" not in os.listdir(project_root):\n",
    "    project_root = os.path.dirname(project_root)\n",
    "sys.path.append(project_root)"
   ]
  },
  {
   "cell_type": "code",
   "execution_count": 2,
   "metadata": {},
   "outputs": [
    {
     "name": "stderr",
     "output_type": "stream",
     "text": [
      "2025-02-20 08:59:48.750027: I tensorflow/core/util/port.cc:153] oneDNN custom operations are on. You may see slightly different numerical results due to floating-point round-off errors from different computation orders. To turn them off, set the environment variable `TF_ENABLE_ONEDNN_OPTS=0`.\n",
      "2025-02-20 08:59:48.860620: E external/local_xla/xla/stream_executor/cuda/cuda_fft.cc:477] Unable to register cuFFT factory: Attempting to register factory for plugin cuFFT when one has already been registered\n",
      "WARNING: All log messages before absl::InitializeLog() is called are written to STDERR\n",
      "E0000 00:00:1740059988.930030 1444785 cuda_dnn.cc:8310] Unable to register cuDNN factory: Attempting to register factory for plugin cuDNN when one has already been registered\n",
      "E0000 00:00:1740059988.947212 1444785 cuda_blas.cc:1418] Unable to register cuBLAS factory: Attempting to register factory for plugin cuBLAS when one has already been registered\n",
      "2025-02-20 08:59:49.059300: I tensorflow/core/platform/cpu_feature_guard.cc:210] This TensorFlow binary is optimized to use available CPU instructions in performance-critical operations.\n",
      "To enable the following instructions: AVX2 AVX512F AVX512_VNNI AVX512_BF16 FMA, in other operations, rebuild TensorFlow with the appropriate compiler flags.\n"
     ]
    }
   ],
   "source": [
    "import torch\n",
    "import numpy as np\n",
    "import matplotlib.pyplot as plt\n",
    "import librosa\n",
    "\n",
    "from src.pipelines.data import musdb_pipeline\n",
    "from src.pipelines.train import train_pipeline\n",
    "from src.pipelines.infer import infer_pipeline\n",
    "from src.pipelines.eval import eval_pipeline\n",
    "from src.models import DeepSampler\n",
    "from src.utils.data.dataset import MUSDBDataset\n",
    "from src.utils.training.loss import MultiSourceLoss\n",
    "\n",
    "device = torch.device(\"cuda\" if torch.cuda.is_available() else \"cpu\")"
   ]
  },
  {
   "cell_type": "code",
   "execution_count": 3,
   "metadata": {},
   "outputs": [
    {
     "data": {
      "text/plain": [
       "(2, 4, 513, 173)"
      ]
     },
     "execution_count": 3,
     "metadata": {},
     "output_type": "execute_result"
    }
   ],
   "source": [
    "# Audio parameters\n",
    "SR = 44100\n",
    "NFFT = 1024\n",
    "HOP = 512\n",
    "CHUNK_DUR = 2\n",
    "OVERLAP = 0\n",
    "BATCH_SIZE = 2\n",
    "\n",
    "# Model parameters\n",
    "N_SOURCES = 4\n",
    "N_LAYERS = 4\n",
    "N_HEADS = 8\n",
    "DROPOUT = 0.1\n",
    "DEPTH = 4\n",
    "\n",
    "data_path = os.path.join(project_root, \"data\")\n",
    "musdb_path = os.path.join(data_path, \"musdb18hq\")\n",
    "train_path = os.path.join(data_path, \"musdb18hq\", \"train\")\n",
    "test_path = os.path.join(data_path, \"musdb18hq\", \"test\")\n",
    "output_path = os.path.join(data_path, \"processed\")\n",
    "experiments_path = os.path.join(project_root, \"experiments\")\n",
    "checkpoint_path = os.path.join(experiments_path, \"checkpoints\")\n",
    "results_path = os.path.join(experiments_path, \"results\")\n",
    "log_path = os.path.join(experiments_path, \"logs\")\n",
    "\n",
    "train_files = os.listdir(train_path)\n",
    "train_files.sort()\n",
    "\n",
    "instruments = [\"vocals\", \"drums\", \"bass\", \"other\"]\n",
    "model = DeepSampler()\n",
    "model.to(device)\n",
    "criterion = MultiSourceLoss(weights=[1, 1, 1, 1])\n",
    "calculated_shape = (BATCH_SIZE, N_SOURCES, NFFT // 2 + 1, CHUNK_DUR * SR // HOP + 1)\n",
    "calculated_shape"
   ]
  },
  {
   "cell_type": "markdown",
   "metadata": {},
   "source": [
    "## Training"
   ]
  },
  {
   "cell_type": "code",
   "execution_count": null,
   "metadata": {},
   "outputs": [],
   "source": [
    "instruments = [\"drums\", \"bass\", \"other\", \"vocals\"]\n",
    "isolated_dataset = {inst: None for inst in instruments}\n",
    "for i, inst in enumerate(instruments):\n",
    "    isolated_dataset[inst] = musdb_pipeline(\n",
    "        musdb_path=os.path.join(musdb_path, \"train\"),\n",
    "        isolated=[inst],\n",
    "        sample_rate=SR,\n",
    "        n_fft=NFFT,\n",
    "        hop_length=HOP,\n",
    "        chunk_duration=CHUNK_DUR,\n",
    "        overlap=OVERLAP,\n",
    "        max_chunks=250,\n",
    "    )\n",
    "\n",
    "# combine isolated datasets\n",
    "combined_data = []\n",
    "for inst in instruments:\n",
    "    dataset = isolated_dataset[inst]\n",
    "    combined_data.extend(dataset.data)\n",
    "    del dataset, isolated_dataset[inst]\n",
    "\n",
    "combined_dataset = MUSDBDataset(data=combined_data, n_fft=NFFT, hop_length=HOP)\n",
    "del combined_data"
   ]
  },
  {
   "cell_type": "code",
   "execution_count": null,
   "metadata": {},
   "outputs": [],
   "source": [
    "train_dataset = musdb_pipeline(\n",
    "    musdb_path=train_path,\n",
    "    sample_rate=SR,\n",
    "    n_fft=NFFT,\n",
    "    hop_length=HOP,\n",
    "    chunk_duration=CHUNK_DUR,\n",
    "    overlap=OVERLAP,\n",
    "    save_dir=output_path,\n",
    "    max_chunks=4000,\n",
    ")"
   ]
  },
  {
   "cell_type": "code",
   "execution_count": null,
   "metadata": {},
   "outputs": [],
   "source": [
    "isolated_dataloader = torch.utils.data.DataLoader(\n",
    "    combined_dataset,\n",
    "    batch_size=4,\n",
    "    shuffle=True,\n",
    ")"
   ]
  },
  {
   "cell_type": "code",
   "execution_count": null,
   "metadata": {},
   "outputs": [],
   "source": [
    "history = train_pipeline(\n",
    "    model=model,\n",
    "    criterion=criterion,\n",
    "    optimizer=torch.optim.Adam(model.parameters(), lr=3e-3),\n",
    "    dataloader=isolated_dataloader,\n",
    "    epochs=5,\n",
    "    device=device,\n",
    ")\n",
    "del isolated_dataloader, history"
   ]
  },
  {
   "cell_type": "code",
   "execution_count": null,
   "metadata": {},
   "outputs": [],
   "source": [
    "train_loader = torch.utils.data.DataLoader(\n",
    "    train_dataset,\n",
    "    batch_size=8,\n",
    "    shuffle=True,\n",
    ")"
   ]
  },
  {
   "cell_type": "code",
   "execution_count": null,
   "metadata": {},
   "outputs": [],
   "source": [
    "try:\n",
    "    history = train_pipeline(\n",
    "        model=model,\n",
    "        criterion=criterion,\n",
    "        optimizer=torch.optim.AdamW(model.parameters()),\n",
    "        dataloader=train_loader,\n",
    "        epochs=20,\n",
    "        checkpoint_dir=checkpoint_path,\n",
    "        checkpoint_every=5,\n",
    "        device=device,\n",
    "    )\n",
    "except RuntimeError as error:\n",
    "    if \"out of memory\" in str(error):\n",
    "        print(\"Error: No se pudo asignar memoria en la GPU. Liberando memoria...\")\n",
    "        torch.cuda.empty_cache()\n",
    "    else:\n",
    "        print(\"Se produjo un error:\", error)\n",
    "    raise"
   ]
  },
  {
   "cell_type": "code",
   "execution_count": null,
   "metadata": {},
   "outputs": [],
   "source": [
    "# Supongamos que 'history' es un diccionario con las llaves:\n",
    "# \"epoch_loss\", \"learning_rate\", \"batch_losses\"\n",
    "# Por ejemplo:\n",
    "# history = {\n",
    "#     \"epoch_loss\": [0.9, 0.8, 0.7, ...],\n",
    "#     \"learning_rate\": [0.001, 0.001, 0.0009, ...],\n",
    "#     \"batch_losses\": [[1.0, 0.95, ...], [0.9, 0.85, ...], ...]\n",
    "# }\n",
    "\n",
    "fig, axs = plt.subplots(2, 1, figsize=(10, 8), constrained_layout=True)\n",
    "\n",
    "# Plot para \"Epoch Loss\"\n",
    "axs[0].plot(history[\"loss\"], marker=\"o\", color=\"blue\", label=\"Epoch Loss\")\n",
    "axs[0].set_title(\"Loss por Época\", fontsize=14)\n",
    "axs[0].set_xlabel(\"Época\", fontsize=12)\n",
    "axs[0].set_ylabel(\"Loss\", fontsize=12)\n",
    "axs[0].legend()\n",
    "axs[0].grid(True)\n",
    "\n",
    "# Plot para \"Learning Rate\"\n",
    "axs[1].plot(\n",
    "    history[\"learning_rate\"],\n",
    "    marker=\"s\",\n",
    "    linestyle=\"--\",\n",
    "    color=\"green\",\n",
    "    label=\"Learning Rate\",\n",
    ")\n",
    "axs[1].set_title(\"Tasa de Aprendizaje\", fontsize=14)\n",
    "axs[1].set_xlabel(\"Época\", fontsize=12)\n",
    "axs[1].set_ylabel(\"Learning Rate\", fontsize=12)\n",
    "axs[1].legend()\n",
    "axs[1].grid(True)\n",
    "plt.show()"
   ]
  },
  {
   "cell_type": "markdown",
   "metadata": {},
   "source": [
    "## Testing"
   ]
  },
  {
   "cell_type": "code",
   "execution_count": 4,
   "metadata": {},
   "outputs": [
    {
     "data": {
      "text/plain": [
       "<All keys matched successfully>"
      ]
     },
     "execution_count": 4,
     "metadata": {},
     "output_type": "execute_result"
    }
   ],
   "source": [
    "epoch = 20\n",
    "model.load_state_dict(\n",
    "    torch.load(os.path.join(checkpoint_path, f\"checkpoint_epoch{epoch:03d}.pth\"))\n",
    ")"
   ]
  },
  {
   "cell_type": "code",
   "execution_count": 5,
   "metadata": {},
   "outputs": [],
   "source": [
    "random_folder = np.random.choice(os.listdir(test_path))\n",
    "audio_mixture = os.path.join(test_path, random_folder, \"mixture.wav\")\n",
    "\n",
    "extracted_sources = infer_pipeline(\n",
    "    model=model,\n",
    "    mixture=audio_mixture,\n",
    "    sample_rate=SR,\n",
    "    chunk_seconds=CHUNK_DUR,\n",
    "    overlap=OVERLAP,\n",
    "    n_fft=NFFT,\n",
    "    hop_length=HOP,\n",
    "    device=device,\n",
    ")"
   ]
  },
  {
   "cell_type": "code",
   "execution_count": 6,
   "metadata": {},
   "outputs": [],
   "source": [
    "fig, axs = plt.subplots(len(instruments), 2, figsize=(20, 16), constrained_layout=True)\n",
    "\n",
    "for i, inst in enumerate(instruments):\n",
    "    # Load the original waveform from file.\n",
    "    orig_file_path = os.path.join(test_path, random_folder, f\"{inst}.wav\")\n",
    "    wav, _ = librosa.load(orig_file_path, sr=SR)\n",
    "\n",
    "    # Plot the original waveform.\n",
    "    axs[i, 0].plot(wav, color=\"tab:blue\")\n",
    "    axs[i, 0].set_title(f\"{inst.capitalize()} (Original)\", fontsize=16)\n",
    "    axs[i, 0].set_xlabel(\"Samples\", fontsize=14)\n",
    "    axs[i, 0].set_ylabel(\"Amplitude\", fontsize=14)\n",
    "    axs[i, 0].grid(True)\n",
    "\n",
    "    # Get the extracted waveform.\n",
    "    pred = extracted_sources[inst]\n",
    "    # If waveform has more than one channel, use the first channel for plotting.\n",
    "    if pred.ndim > 1:\n",
    "        pred = pred[0]\n",
    "    pred_np = pred.cpu().numpy()\n",
    "\n",
    "    # Plot the extracted waveform.\n",
    "    axs[i, 1].plot(pred_np, color=\"tab:orange\")\n",
    "    axs[i, 1].set_title(f\"{inst.capitalize()} (Extracted)\", fontsize=16)\n",
    "    axs[i, 1].set_xlabel(\"Samples\", fontsize=14)\n",
    "    axs[i, 1].set_ylabel(\"Amplitude\", fontsize=14)\n",
    "    axs[i, 1].grid(True)\n",
    "\n",
    "    # Free memory for this loop iteration.\n",
    "    del wav, pred, pred_np\n",
    "\n",
    "# Save the complete figure as one large PNG file in RESULTS_PATH.\n",
    "output_file = os.path.join(results_path, \"dino_sampler\", \"combined_results.png\")\n",
    "plt.savefig(output_file, bbox_inches=\"tight\", dpi=300)\n",
    "plt.close(fig)"
   ]
  },
  {
   "cell_type": "code",
   "execution_count": 7,
   "metadata": {},
   "outputs": [
    {
     "name": "stdout",
     "output_type": "stream",
     "text": [
      "Saving vocals to /home/nhrot/Programming/Python/DeepLearning/DeepSampler/experiments/results/dino_sampler/vocals.wav\n"
     ]
    },
    {
     "name": "stderr",
     "output_type": "stream",
     "text": [
      "/home/nhrot/.pyenv/versions/3.10.16/envs/ia_ml/lib/python3.10/site-packages/matplotlib/axes/_axes.py:8233: RuntimeWarning: divide by zero encountered in log10\n",
      "  Z = 10. * np.log10(spec)\n"
     ]
    },
    {
     "name": "stdout",
     "output_type": "stream",
     "text": [
      "Saving drums to /home/nhrot/Programming/Python/DeepLearning/DeepSampler/experiments/results/dino_sampler/drums.wav\n",
      "Saving bass to /home/nhrot/Programming/Python/DeepLearning/DeepSampler/experiments/results/dino_sampler/bass.wav\n",
      "Saving other to /home/nhrot/Programming/Python/DeepLearning/DeepSampler/experiments/results/dino_sampler/other.wav\n"
     ]
    }
   ],
   "source": [
    "import torchaudio\n",
    "\n",
    "for inst in instruments:\n",
    "    # Save waveform\n",
    "    file_path = os.path.join(results_path, \"dino_sampler\", f\"{inst}.wav\")\n",
    "    print(f\"Saving {inst} to {file_path}\")\n",
    "\n",
    "    waveform = extracted_sources[inst]\n",
    "    # Ensure waveform is 2D: if it's 1D, add a channel dimension.\n",
    "    if waveform.ndim == 1:\n",
    "        waveform = waveform.unsqueeze(0)\n",
    "    # Convert waveform to float32, which is supported by torchaudio.\n",
    "    waveform = waveform.to(torch.float32)\n",
    "    torchaudio.save(file_path, waveform.cpu(), SR)\n",
    "\n",
    "    # Save spectrogram image\n",
    "    file_path = os.path.join(results_path, \"dino_sampler\", f\"{inst}.png\")\n",
    "    plt.figure(figsize=(30, 10))\n",
    "    # Use the first channel if there are multiple channels.\n",
    "    signal_to_plot = waveform[0].cpu().numpy()\n",
    "    plt.specgram(signal_to_plot, NFFT=NFFT, Fs=SR, noverlap=OVERLAP)\n",
    "    plt.axis(\"off\")\n",
    "    plt.savefig(file_path, bbox_inches=\"tight\")\n",
    "    plt.close()"
   ]
  },
  {
   "cell_type": "code",
   "execution_count": null,
   "metadata": {},
   "outputs": [],
   "source": [
    "eval_results = eval_pipeline(\n",
    "    model=model,\n",
    "    dataset_path=test_path,\n",
    "    sample_rate=SR,\n",
    "    chunk_seconds=CHUNK_DUR,\n",
    "    overlap=OVERLAP,\n",
    "    n_fft=NFFT,\n",
    "    hop_length=HOP,\n",
    "    device=device,\n",
    ")"
   ]
  },
  {
   "cell_type": "code",
   "execution_count": null,
   "metadata": {},
   "outputs": [],
   "source": [
    "eval_results"
   ]
  }
 ],
 "metadata": {
  "kernelspec": {
   "display_name": "ia_ml",
   "language": "python",
   "name": "python3"
  },
  "language_info": {
   "codemirror_mode": {
    "name": "ipython",
    "version": 3
   },
   "file_extension": ".py",
   "mimetype": "text/x-python",
   "name": "python",
   "nbconvert_exporter": "python",
   "pygments_lexer": "ipython3",
   "version": "3.10.16"
  }
 },
 "nbformat": 4,
 "nbformat_minor": 2
}
