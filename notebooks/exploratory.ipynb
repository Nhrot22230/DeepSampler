{
 "cells": [
  {
   "cell_type": "code",
   "execution_count": 1,
   "metadata": {},
   "outputs": [],
   "source": [
    "import os\n",
    "import sys\n",
    "\n",
    "project_root = os.getcwd()\n",
    "while \"src\" not in os.listdir(project_root):\n",
    "    project_root = os.path.dirname(project_root)\n",
    "sys.path.append(project_root)"
   ]
  },
  {
   "cell_type": "code",
   "execution_count": null,
   "metadata": {},
   "outputs": [],
   "source": [
    "import os\n",
    "import torch\n",
    "import torchaudio\n",
    "import numpy as np\n",
    "from typing import List, Dict, Any, Tuple, Callable\n",
    "import matplotlib.pyplot as plt\n",
    "import random\n",
    "import librosa\n",
    "\n",
    "# Global configuration for plotting\n",
    "plt.rcParams[\"figure.figsize\"] = [20, 6]"
   ]
  },
  {
   "cell_type": "code",
   "execution_count": null,
   "metadata": {},
   "outputs": [],
   "source": [
    "data_root = os.path.join(project_root, \"data\", \"processed\", \"train\")\n",
    "\n",
    "if not os.path.exists(data_root):\n",
    "    raise FileNotFoundError(\n",
    "        \"No se encontró la carpeta data, por favor ejecute el script download_data.sh antes de ejecutar este script.\"\n",
    "    )"
   ]
  },
  {
   "cell_type": "code",
   "execution_count": null,
   "metadata": {},
   "outputs": [],
   "source": [
    "from src.utils.audio import AudioSample\n",
    "from src.utils.data.dataset import AudioDataset\n",
    "from src.utils.data.transforms import TransformChain, FreqSplit, STFTTransform\n",
    "\n",
    "samples: List[AudioSample] = []\n",
    "for file in os.listdir(data_root):\n",
    "    npz_file = os.path.join(data_root, file)\n",
    "    data = np.load(npz_file, allow_pickle=True)\n",
    "    for key in data.files:\n",
    "        samples.append(AudioSample(data[key].item()))\n",
    "    break"
   ]
  },
  {
   "cell_type": "code",
   "execution_count": null,
   "metadata": {},
   "outputs": [],
   "source": [
    "tc = TransformChain()\n",
    "convert_to_tensor: Callable[[AudioSample], Dict[str, torch.Tensor]] = (\n",
    "    lambda x: x.to_tensor()\n",
    ")\n",
    "tc.add_transform(convert_to_tensor)\n",
    "tc.add_transform(STFTTransform())\n",
    "\n",
    "dataset = AudioDataset(samples, tc)"
   ]
  },
  {
   "cell_type": "code",
   "execution_count": null,
   "metadata": {},
   "outputs": [],
   "source": [
    "from src.utils.training.loss import sdr_loss, si_sdr_loss, snr_loss\n",
    "from src.utils.training.trainer import Trainer\n",
    "from src.models import SingleChannelUNet\n",
    "\n",
    "model = SingleChannelUNet()"
   ]
  }
 ],
 "metadata": {
  "kernelspec": {
   "display_name": "ia_ml",
   "language": "python",
   "name": "python3"
  },
  "language_info": {
   "codemirror_mode": {
    "name": "ipython",
    "version": 3
   },
   "file_extension": ".py",
   "mimetype": "text/x-python",
   "name": "python",
   "nbconvert_exporter": "python",
   "pygments_lexer": "ipython3",
   "version": "3.10.16"
  }
 },
 "nbformat": 4,
 "nbformat_minor": 2
}
