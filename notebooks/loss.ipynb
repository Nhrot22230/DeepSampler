{
 "cells": [
  {
   "cell_type": "code",
   "execution_count": 1,
   "metadata": {},
   "outputs": [],
   "source": [
    "import os\n",
    "import sys\n",
    "\n",
    "project_root = os.getcwd()\n",
    "while \"src\" not in os.listdir(project_root):\n",
    "    project_root = os.path.dirname(project_root)\n",
    "sys.path.append(project_root)"
   ]
  },
  {
   "cell_type": "code",
   "execution_count": 2,
   "metadata": {},
   "outputs": [],
   "source": [
    "import torch\n",
    "from src.utils.training import (\n",
    "    MultiSourceLoss,\n",
    "    MultiScaleLoss,\n",
    "    VGGFeatureLoss,\n",
    ")"
   ]
  },
  {
   "cell_type": "code",
   "execution_count": 3,
   "metadata": {},
   "outputs": [],
   "source": [
    "channel_weights = [3.0, 1.0, 1.0, 1.0]\n",
    "\n",
    "# Unbatched spectrograms (shape: [C, H, W])\n",
    "output_spec = torch.randn(4, 1025, 173, requires_grad=True)\n",
    "target_spec = torch.randn(4, 1025, 173)\n",
    "\n",
    "# Batched spectrograms (shape: [B, C, H, W])\n",
    "batched_output_spec = torch.randn(4, 4, 1025, 173, requires_grad=True)\n",
    "batched_target_spec = torch.randn(4, 4, 1025, 173)"
   ]
  },
  {
   "cell_type": "code",
   "execution_count": 4,
   "metadata": {},
   "outputs": [
    {
     "name": "stdout",
     "output_type": "stream",
     "text": [
      "L1 loss: 1.1282662153244019\n",
      "L1 loss: 1.9990620613098145\n",
      "Multi-scale loss: 0.6574965715408325\n",
      "Composite loss: 35.571136474609375\n"
     ]
    }
   ],
   "source": [
    "l1_loss = MultiSourceLoss(\n",
    "    weights=channel_weights,\n",
    "    distance=\"l1\",\n",
    ")\n",
    "loss = l1_loss(output_spec, target_spec)\n",
    "loss.backward()\n",
    "print(\"L1 loss:\", loss.item())\n",
    "\n",
    "l2_loss = MultiSourceLoss(\n",
    "    weights=channel_weights,\n",
    "    distance=\"l2\",\n",
    ")\n",
    "loss = l2_loss(output_spec, target_spec)\n",
    "loss.backward()\n",
    "print(\"L1 loss:\", loss.item())\n",
    "\n",
    "multi_scale_loss = MultiScaleLoss(\n",
    "    weights=channel_weights,\n",
    ")\n",
    "loss = multi_scale_loss(output_spec, target_spec)\n",
    "loss.backward()\n",
    "print(\"Multi-scale loss:\", loss.item())\n",
    "\n",
    "composite_loss = VGGFeatureLoss(\n",
    "    weights=channel_weights,\n",
    ")\n",
    "loss = composite_loss(output_spec, target_spec)\n",
    "loss.backward()\n",
    "print(\"Composite loss:\", loss.item())"
   ]
  },
  {
   "cell_type": "code",
   "execution_count": 5,
   "metadata": {},
   "outputs": [
    {
     "name": "stdout",
     "output_type": "stream",
     "text": [
      "L1 loss: 1.128129005432129\n",
      "Spectral loss: 1.9971257448196411\n",
      "Multi-scale loss: 0.6578590273857117\n",
      "Composite loss: 35.648277282714844\n"
     ]
    }
   ],
   "source": [
    "l1_loss = MultiSourceLoss(weights=channel_weights)\n",
    "loss = l1_loss(batched_output_spec, batched_target_spec)\n",
    "loss.backward()\n",
    "print(\"L1 loss:\", loss.item())\n",
    "\n",
    "l2_loss = MultiSourceLoss(\n",
    "    weights=channel_weights,\n",
    "    distance=\"l2\",\n",
    ")\n",
    "loss = l2_loss(batched_output_spec, batched_target_spec)\n",
    "loss.backward()\n",
    "print(\"Spectral loss:\", loss.item())\n",
    "\n",
    "multi_scale_loss = MultiScaleLoss(\n",
    "    weights=channel_weights,\n",
    ")\n",
    "loss = multi_scale_loss(batched_output_spec, batched_target_spec)\n",
    "loss.backward()\n",
    "print(\"Multi-scale loss:\", loss.item())\n",
    "\n",
    "composite_loss = VGGFeatureLoss(\n",
    "    weights=channel_weights,\n",
    ")\n",
    "loss = composite_loss(batched_output_spec, batched_target_spec)\n",
    "loss.backward()\n",
    "print(\"Composite loss:\", loss.item())"
   ]
  }
 ],
 "metadata": {
  "kernelspec": {
   "display_name": "ia_ml",
   "language": "python",
   "name": "python3"
  },
  "language_info": {
   "codemirror_mode": {
    "name": "ipython",
    "version": 3
   },
   "file_extension": ".py",
   "mimetype": "text/x-python",
   "name": "python",
   "nbconvert_exporter": "python",
   "pygments_lexer": "ipython3",
   "version": "3.10.16"
  }
 },
 "nbformat": 4,
 "nbformat_minor": 2
}
