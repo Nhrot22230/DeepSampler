{
 "cells": [
  {
   "cell_type": "code",
   "execution_count": null,
   "metadata": {},
   "outputs": [],
   "source": [
    "# working with colab\n",
    "# !pip install torchmetrics\n",
    "# !git clone https://github.com/Nhrot22230/DeepSampler\n",
    "#  !cd DeepSampler && make init\n",
    "\n",
    "# import os\n",
    "# import sys\n",
    "\n",
    "# # Suponiendo que clonaste el repositorio en /content/DeepSampler\n",
    "# project_root = os.path.join(os.getcwd(), \"DeepSampler\")\n",
    "# if project_root not in sys.path:\n",
    "#     sys.path.insert(0, project_root)"
   ]
  },
  {
   "cell_type": "code",
   "execution_count": 1,
   "metadata": {},
   "outputs": [],
   "source": [
    "import os\n",
    "import sys\n",
    "\n",
    "project_root = os.getcwd()\n",
    "while \"src\" not in os.listdir(project_root):\n",
    "    project_root = os.path.dirname(project_root)\n",
    "sys.path.append(project_root)"
   ]
  },
  {
   "cell_type": "code",
   "execution_count": 2,
   "metadata": {},
   "outputs": [
    {
     "name": "stderr",
     "output_type": "stream",
     "text": [
      "2025-02-20 13:10:38.592114: I tensorflow/core/util/port.cc:153] oneDNN custom operations are on. You may see slightly different numerical results due to floating-point round-off errors from different computation orders. To turn them off, set the environment variable `TF_ENABLE_ONEDNN_OPTS=0`.\n",
      "2025-02-20 13:10:38.707445: E external/local_xla/xla/stream_executor/cuda/cuda_fft.cc:477] Unable to register cuFFT factory: Attempting to register factory for plugin cuFFT when one has already been registered\n",
      "WARNING: All log messages before absl::InitializeLog() is called are written to STDERR\n",
      "E0000 00:00:1740075038.779254 1938608 cuda_dnn.cc:8310] Unable to register cuDNN factory: Attempting to register factory for plugin cuDNN when one has already been registered\n",
      "E0000 00:00:1740075038.799194 1938608 cuda_blas.cc:1418] Unable to register cuBLAS factory: Attempting to register factory for plugin cuBLAS when one has already been registered\n",
      "2025-02-20 13:10:38.904048: I tensorflow/core/platform/cpu_feature_guard.cc:210] This TensorFlow binary is optimized to use available CPU instructions in performance-critical operations.\n",
      "To enable the following instructions: AVX2 AVX512F AVX512_VNNI AVX512_BF16 FMA, in other operations, rebuild TensorFlow with the appropriate compiler flags.\n"
     ]
    }
   ],
   "source": [
    "import torch\n",
    "import numpy as np\n",
    "import matplotlib.pyplot as plt\n",
    "import librosa\n",
    "\n",
    "from src.pipelines.data import musdb_pipeline\n",
    "from src.pipelines.train import train_pipeline\n",
    "from src.pipelines.infer import infer_pipeline\n",
    "from src.pipelines.eval import eval_pipeline\n",
    "from src.models import DeepSampler\n",
    "from src.utils.data.dataset import MUSDBDataset\n",
    "from src.utils.training.loss import MultiSourceLoss\n",
    "\n",
    "device = torch.device(\"cuda\" if torch.cuda.is_available() else \"cpu\")"
   ]
  },
  {
   "cell_type": "code",
   "execution_count": 3,
   "metadata": {},
   "outputs": [
    {
     "data": {
      "text/plain": [
       "(2, 4, 513, 173)"
      ]
     },
     "execution_count": 3,
     "metadata": {},
     "output_type": "execute_result"
    }
   ],
   "source": [
    "# Audio parameters\n",
    "SR = 44100\n",
    "NFFT = 1024\n",
    "HOP = 512\n",
    "CHUNK_DUR = 2\n",
    "OVERLAP = 0\n",
    "BATCH_SIZE = 2\n",
    "\n",
    "# Model parameters\n",
    "N_SOURCES = 4\n",
    "N_LAYERS = 4\n",
    "N_HEADS = 8\n",
    "DROPOUT = 0.1\n",
    "DEPTH = 4\n",
    "\n",
    "data_path = os.path.join(project_root, \"data\")\n",
    "musdb_path = os.path.join(data_path, \"musdb18hq\")\n",
    "train_path = os.path.join(data_path, \"musdb18hq\", \"train\")\n",
    "test_path = os.path.join(data_path, \"musdb18hq\", \"test\")\n",
    "output_path = os.path.join(data_path, \"processed\")\n",
    "experiments_path = os.path.join(project_root, \"experiments\")\n",
    "checkpoint_path = os.path.join(experiments_path, \"checkpoints2\")\n",
    "results_path = os.path.join(experiments_path, \"results\")\n",
    "log_path = os.path.join(experiments_path, \"logs\")\n",
    "\n",
    "train_files = os.listdir(train_path)\n",
    "train_files.sort()\n",
    "\n",
    "instruments = [\"vocals\", \"drums\", \"bass\", \"other\"]\n",
    "model = DeepSampler()\n",
    "model.to(device)\n",
    "criterion = MultiSourceLoss(weights=[1, 1, 1, 1])\n",
    "calculated_shape = (BATCH_SIZE, N_SOURCES, NFFT // 2 + 1, CHUNK_DUR * SR // HOP + 1)\n",
    "calculated_shape"
   ]
  },
  {
   "cell_type": "markdown",
   "metadata": {},
   "source": [
    "## Training"
   ]
  },
  {
   "cell_type": "code",
   "execution_count": 4,
   "metadata": {},
   "outputs": [
    {
     "data": {
      "application/vnd.jupyter.widget-view+json": {
       "model_id": "11ecae8cff274c4fa275102143bb4005",
       "version_major": 2,
       "version_minor": 0
      },
      "text/plain": [
       "Total chunks:   0%|          | 0/250 [00:00<?, ?chunk/s]"
      ]
     },
     "metadata": {},
     "output_type": "display_data"
    },
    {
     "data": {
      "application/vnd.jupyter.widget-view+json": {
       "model_id": "5ddd9f9a04d44580b84d777f2bc9df37",
       "version_major": 2,
       "version_minor": 0
      },
      "text/plain": [
       "Tracks:   0%|          | 0/100 [00:00<?, ?it/s]"
      ]
     },
     "metadata": {},
     "output_type": "display_data"
    },
    {
     "data": {
      "application/vnd.jupyter.widget-view+json": {
       "model_id": "bb3bc6652961448eaf3924c120afb8c8",
       "version_major": 2,
       "version_minor": 0
      },
      "text/plain": [
       "Total chunks:   0%|          | 0/250 [00:00<?, ?chunk/s]"
      ]
     },
     "metadata": {},
     "output_type": "display_data"
    },
    {
     "data": {
      "application/vnd.jupyter.widget-view+json": {
       "model_id": "15e2d62020ac467a803a0727d90408a6",
       "version_major": 2,
       "version_minor": 0
      },
      "text/plain": [
       "Tracks:   0%|          | 0/100 [00:00<?, ?it/s]"
      ]
     },
     "metadata": {},
     "output_type": "display_data"
    },
    {
     "data": {
      "application/vnd.jupyter.widget-view+json": {
       "model_id": "d346f3d191d342fd9ccf3f38dc812a2f",
       "version_major": 2,
       "version_minor": 0
      },
      "text/plain": [
       "Total chunks:   0%|          | 0/250 [00:00<?, ?chunk/s]"
      ]
     },
     "metadata": {},
     "output_type": "display_data"
    },
    {
     "data": {
      "application/vnd.jupyter.widget-view+json": {
       "model_id": "f73c7f97a0544fde94733aabde9a48a8",
       "version_major": 2,
       "version_minor": 0
      },
      "text/plain": [
       "Tracks:   0%|          | 0/100 [00:00<?, ?it/s]"
      ]
     },
     "metadata": {},
     "output_type": "display_data"
    },
    {
     "data": {
      "application/vnd.jupyter.widget-view+json": {
       "model_id": "a981a41b0ad24284851198077563883e",
       "version_major": 2,
       "version_minor": 0
      },
      "text/plain": [
       "Total chunks:   0%|          | 0/250 [00:00<?, ?chunk/s]"
      ]
     },
     "metadata": {},
     "output_type": "display_data"
    },
    {
     "data": {
      "application/vnd.jupyter.widget-view+json": {
       "model_id": "333e0e0b617442dda201cf18e0f59b1c",
       "version_major": 2,
       "version_minor": 0
      },
      "text/plain": [
       "Tracks:   0%|          | 0/100 [00:00<?, ?it/s]"
      ]
     },
     "metadata": {},
     "output_type": "display_data"
    }
   ],
   "source": [
    "instruments = [\"drums\", \"bass\", \"other\", \"vocals\"]\n",
    "isolated_dataset = {inst: None for inst in instruments}\n",
    "for i, inst in enumerate(instruments):\n",
    "    isolated_dataset[inst] = musdb_pipeline(\n",
    "        musdb_path=os.path.join(musdb_path, \"train\"),\n",
    "        isolated=[inst],\n",
    "        sample_rate=SR,\n",
    "        n_fft=NFFT,\n",
    "        hop_length=HOP,\n",
    "        chunk_duration=CHUNK_DUR,\n",
    "        overlap=OVERLAP,\n",
    "        max_chunks=250,\n",
    "    )\n",
    "\n",
    "# combine isolated datasets\n",
    "combined_data = []\n",
    "for inst in instruments:\n",
    "    dataset = isolated_dataset[inst]\n",
    "    combined_data.extend(dataset.data)\n",
    "    del dataset, isolated_dataset[inst]\n",
    "\n",
    "combined_dataset = MUSDBDataset(data=combined_data, n_fft=NFFT, hop_length=HOP)\n",
    "del combined_data"
   ]
  },
  {
   "cell_type": "code",
   "execution_count": 5,
   "metadata": {},
   "outputs": [
    {
     "data": {
      "application/vnd.jupyter.widget-view+json": {
       "model_id": "6081aae44750475a87d7c17fae4c6090",
       "version_major": 2,
       "version_minor": 0
      },
      "text/plain": [
       "Total chunks:   0%|          | 0/4000 [00:00<?, ?chunk/s]"
      ]
     },
     "metadata": {},
     "output_type": "display_data"
    },
    {
     "data": {
      "application/vnd.jupyter.widget-view+json": {
       "model_id": "e63454a258f643ec95159d2e95edf53a",
       "version_major": 2,
       "version_minor": 0
      },
      "text/plain": [
       "Tracks:   0%|          | 0/100 [00:00<?, ?it/s]"
      ]
     },
     "metadata": {},
     "output_type": "display_data"
    }
   ],
   "source": [
    "train_dataset = musdb_pipeline(\n",
    "    musdb_path=train_path,\n",
    "    sample_rate=SR,\n",
    "    n_fft=NFFT,\n",
    "    hop_length=HOP,\n",
    "    chunk_duration=CHUNK_DUR,\n",
    "    overlap=OVERLAP,\n",
    "    save_dir=output_path,\n",
    "    max_chunks=4000,\n",
    ")"
   ]
  },
  {
   "cell_type": "code",
   "execution_count": 6,
   "metadata": {},
   "outputs": [],
   "source": [
    "isolated_dataloader = torch.utils.data.DataLoader(\n",
    "    combined_dataset,\n",
    "    batch_size=4,\n",
    "    shuffle=True,\n",
    ")"
   ]
  },
  {
   "cell_type": "code",
   "execution_count": 7,
   "metadata": {},
   "outputs": [
    {
     "data": {
      "application/vnd.jupyter.widget-view+json": {
       "model_id": "2dc245418efe4792a574a302a946aa0a",
       "version_major": 2,
       "version_minor": 0
      },
      "text/plain": [
       "  0%|          | 0/5 [00:00<?, ?epoch/s]"
      ]
     },
     "metadata": {},
     "output_type": "display_data"
    },
    {
     "data": {
      "application/vnd.jupyter.widget-view+json": {
       "model_id": "e99f794a5bdb4db892c092a925d63edd",
       "version_major": 2,
       "version_minor": 0
      },
      "text/plain": [
       "  0%|          | 0/250 [00:00<?, ?batch/s]"
      ]
     },
     "metadata": {},
     "output_type": "display_data"
    },
    {
     "data": {
      "application/vnd.jupyter.widget-view+json": {
       "model_id": "d1c8f41c700c4faaa619c3c0805bb7a4",
       "version_major": 2,
       "version_minor": 0
      },
      "text/plain": [
       "  0%|          | 0/250 [00:00<?, ?batch/s]"
      ]
     },
     "metadata": {},
     "output_type": "display_data"
    },
    {
     "data": {
      "application/vnd.jupyter.widget-view+json": {
       "model_id": "e052231368964346a07f039c8c105070",
       "version_major": 2,
       "version_minor": 0
      },
      "text/plain": [
       "  0%|          | 0/250 [00:00<?, ?batch/s]"
      ]
     },
     "metadata": {},
     "output_type": "display_data"
    },
    {
     "data": {
      "application/vnd.jupyter.widget-view+json": {
       "model_id": "34e37a69b7f649c88ce4e1a77d7ebc4f",
       "version_major": 2,
       "version_minor": 0
      },
      "text/plain": [
       "  0%|          | 0/250 [00:00<?, ?batch/s]"
      ]
     },
     "metadata": {},
     "output_type": "display_data"
    },
    {
     "data": {
      "application/vnd.jupyter.widget-view+json": {
       "model_id": "311ad8a3dae1413d9402645172058734",
       "version_major": 2,
       "version_minor": 0
      },
      "text/plain": [
       "  0%|          | 0/250 [00:00<?, ?batch/s]"
      ]
     },
     "metadata": {},
     "output_type": "display_data"
    },
    {
     "name": "stdout",
     "output_type": "stream",
     "text": [
      "\n",
      "Training completed in 95.8 seconds\n"
     ]
    }
   ],
   "source": [
    "history = train_pipeline(\n",
    "    model=model,\n",
    "    criterion=criterion,\n",
    "    optimizer=torch.optim.Adam(model.parameters(), lr=3e-3),\n",
    "    dataloader=isolated_dataloader,\n",
    "    epochs=5,\n",
    "    device=device,\n",
    ")\n",
    "del isolated_dataloader, history"
   ]
  },
  {
   "cell_type": "code",
   "execution_count": 8,
   "metadata": {},
   "outputs": [],
   "source": [
    "train_loader = torch.utils.data.DataLoader(\n",
    "    train_dataset,\n",
    "    batch_size=8,\n",
    "    shuffle=True,\n",
    ")"
   ]
  },
  {
   "cell_type": "code",
   "execution_count": 9,
   "metadata": {},
   "outputs": [
    {
     "data": {
      "application/vnd.jupyter.widget-view+json": {
       "model_id": "ff575bc4f7ee4bb88a26dc631e3cc786",
       "version_major": 2,
       "version_minor": 0
      },
      "text/plain": [
       "  0%|          | 0/50 [00:00<?, ?epoch/s]"
      ]
     },
     "metadata": {},
     "output_type": "display_data"
    },
    {
     "data": {
      "application/vnd.jupyter.widget-view+json": {
       "model_id": "d3b97265fc5d4371b1d7ff9a17298d97",
       "version_major": 2,
       "version_minor": 0
      },
      "text/plain": [
       "  0%|          | 0/500 [00:00<?, ?batch/s]"
      ]
     },
     "metadata": {},
     "output_type": "display_data"
    },
    {
     "data": {
      "application/vnd.jupyter.widget-view+json": {
       "model_id": "a9dd4647d47f463ca3a7184626607fe7",
       "version_major": 2,
       "version_minor": 0
      },
      "text/plain": [
       "  0%|          | 0/500 [00:00<?, ?batch/s]"
      ]
     },
     "metadata": {},
     "output_type": "display_data"
    },
    {
     "data": {
      "application/vnd.jupyter.widget-view+json": {
       "model_id": "4df4f61458674cc89e19c42b4b2c3c7d",
       "version_major": 2,
       "version_minor": 0
      },
      "text/plain": [
       "  0%|          | 0/500 [00:00<?, ?batch/s]"
      ]
     },
     "metadata": {},
     "output_type": "display_data"
    },
    {
     "data": {
      "application/vnd.jupyter.widget-view+json": {
       "model_id": "33ccf21004224f8094022c797c9468cd",
       "version_major": 2,
       "version_minor": 0
      },
      "text/plain": [
       "  0%|          | 0/500 [00:00<?, ?batch/s]"
      ]
     },
     "metadata": {},
     "output_type": "display_data"
    },
    {
     "data": {
      "application/vnd.jupyter.widget-view+json": {
       "model_id": "241cfb8fb89f4881ab542ad0685594d4",
       "version_major": 2,
       "version_minor": 0
      },
      "text/plain": [
       "  0%|          | 0/500 [00:00<?, ?batch/s]"
      ]
     },
     "metadata": {},
     "output_type": "display_data"
    },
    {
     "name": "stdout",
     "output_type": "stream",
     "text": [
      "Saved checkpoint to /home/nhrot/Programming/Python/DeepLearning/DeepSampler/experiments/checkpoints2/checkpoint_epoch005.pth\n"
     ]
    },
    {
     "data": {
      "application/vnd.jupyter.widget-view+json": {
       "model_id": "eed3db40e014420faa65e8abc7856e90",
       "version_major": 2,
       "version_minor": 0
      },
      "text/plain": [
       "  0%|          | 0/500 [00:00<?, ?batch/s]"
      ]
     },
     "metadata": {},
     "output_type": "display_data"
    },
    {
     "data": {
      "application/vnd.jupyter.widget-view+json": {
       "model_id": "b9e155e5dd59413ea73bcc49b4726339",
       "version_major": 2,
       "version_minor": 0
      },
      "text/plain": [
       "  0%|          | 0/500 [00:00<?, ?batch/s]"
      ]
     },
     "metadata": {},
     "output_type": "display_data"
    },
    {
     "data": {
      "application/vnd.jupyter.widget-view+json": {
       "model_id": "b417468148004be9a56fa9c6f3a94f5a",
       "version_major": 2,
       "version_minor": 0
      },
      "text/plain": [
       "  0%|          | 0/500 [00:00<?, ?batch/s]"
      ]
     },
     "metadata": {},
     "output_type": "display_data"
    },
    {
     "data": {
      "application/vnd.jupyter.widget-view+json": {
       "model_id": "2f83923adc6943f09144a746a423ec9e",
       "version_major": 2,
       "version_minor": 0
      },
      "text/plain": [
       "  0%|          | 0/500 [00:00<?, ?batch/s]"
      ]
     },
     "metadata": {},
     "output_type": "display_data"
    },
    {
     "data": {
      "application/vnd.jupyter.widget-view+json": {
       "model_id": "04d2f127c16d432abc00cabf28c87eb7",
       "version_major": 2,
       "version_minor": 0
      },
      "text/plain": [
       "  0%|          | 0/500 [00:00<?, ?batch/s]"
      ]
     },
     "metadata": {},
     "output_type": "display_data"
    },
    {
     "name": "stdout",
     "output_type": "stream",
     "text": [
      "Saved checkpoint to /home/nhrot/Programming/Python/DeepLearning/DeepSampler/experiments/checkpoints2/checkpoint_epoch010.pth\n"
     ]
    },
    {
     "data": {
      "application/vnd.jupyter.widget-view+json": {
       "model_id": "bcd8d479c48b42fc863e254b40d4797f",
       "version_major": 2,
       "version_minor": 0
      },
      "text/plain": [
       "  0%|          | 0/500 [00:00<?, ?batch/s]"
      ]
     },
     "metadata": {},
     "output_type": "display_data"
    },
    {
     "data": {
      "application/vnd.jupyter.widget-view+json": {
       "model_id": "d2525594d7b146e0bbb952deb44458a6",
       "version_major": 2,
       "version_minor": 0
      },
      "text/plain": [
       "  0%|          | 0/500 [00:00<?, ?batch/s]"
      ]
     },
     "metadata": {},
     "output_type": "display_data"
    },
    {
     "data": {
      "application/vnd.jupyter.widget-view+json": {
       "model_id": "cf1b463b77934db58e79e29be31dbbd5",
       "version_major": 2,
       "version_minor": 0
      },
      "text/plain": [
       "  0%|          | 0/500 [00:00<?, ?batch/s]"
      ]
     },
     "metadata": {},
     "output_type": "display_data"
    },
    {
     "data": {
      "application/vnd.jupyter.widget-view+json": {
       "model_id": "b15ec3617eff4d798d1a38dc2ba52f5c",
       "version_major": 2,
       "version_minor": 0
      },
      "text/plain": [
       "  0%|          | 0/500 [00:00<?, ?batch/s]"
      ]
     },
     "metadata": {},
     "output_type": "display_data"
    },
    {
     "data": {
      "application/vnd.jupyter.widget-view+json": {
       "model_id": "de39c462a1bc470fa4422b2fe3f2ec9a",
       "version_major": 2,
       "version_minor": 0
      },
      "text/plain": [
       "  0%|          | 0/500 [00:00<?, ?batch/s]"
      ]
     },
     "metadata": {},
     "output_type": "display_data"
    },
    {
     "name": "stdout",
     "output_type": "stream",
     "text": [
      "Saved checkpoint to /home/nhrot/Programming/Python/DeepLearning/DeepSampler/experiments/checkpoints2/checkpoint_epoch015.pth\n"
     ]
    },
    {
     "data": {
      "application/vnd.jupyter.widget-view+json": {
       "model_id": "0a634da49a3f41889664ba5393461931",
       "version_major": 2,
       "version_minor": 0
      },
      "text/plain": [
       "  0%|          | 0/500 [00:00<?, ?batch/s]"
      ]
     },
     "metadata": {},
     "output_type": "display_data"
    },
    {
     "data": {
      "application/vnd.jupyter.widget-view+json": {
       "model_id": "ed718f8d0fe74791b4b1c79926ff56ae",
       "version_major": 2,
       "version_minor": 0
      },
      "text/plain": [
       "  0%|          | 0/500 [00:00<?, ?batch/s]"
      ]
     },
     "metadata": {},
     "output_type": "display_data"
    },
    {
     "data": {
      "application/vnd.jupyter.widget-view+json": {
       "model_id": "ff0ead3a63f14a30b0612f50aeb37d3a",
       "version_major": 2,
       "version_minor": 0
      },
      "text/plain": [
       "  0%|          | 0/500 [00:00<?, ?batch/s]"
      ]
     },
     "metadata": {},
     "output_type": "display_data"
    },
    {
     "data": {
      "application/vnd.jupyter.widget-view+json": {
       "model_id": "50152c09cbe04d23be30d2ec782aeae0",
       "version_major": 2,
       "version_minor": 0
      },
      "text/plain": [
       "  0%|          | 0/500 [00:00<?, ?batch/s]"
      ]
     },
     "metadata": {},
     "output_type": "display_data"
    },
    {
     "data": {
      "application/vnd.jupyter.widget-view+json": {
       "model_id": "fea560651f12456ba4d7065004cfcd8b",
       "version_major": 2,
       "version_minor": 0
      },
      "text/plain": [
       "  0%|          | 0/500 [00:00<?, ?batch/s]"
      ]
     },
     "metadata": {},
     "output_type": "display_data"
    },
    {
     "name": "stdout",
     "output_type": "stream",
     "text": [
      "Saved checkpoint to /home/nhrot/Programming/Python/DeepLearning/DeepSampler/experiments/checkpoints2/checkpoint_epoch020.pth\n"
     ]
    },
    {
     "data": {
      "application/vnd.jupyter.widget-view+json": {
       "model_id": "ebdbd425f99c4763ab0ca09b6815786b",
       "version_major": 2,
       "version_minor": 0
      },
      "text/plain": [
       "  0%|          | 0/500 [00:00<?, ?batch/s]"
      ]
     },
     "metadata": {},
     "output_type": "display_data"
    },
    {
     "data": {
      "application/vnd.jupyter.widget-view+json": {
       "model_id": "99580f7701e04003873eb1fce7f314bf",
       "version_major": 2,
       "version_minor": 0
      },
      "text/plain": [
       "  0%|          | 0/500 [00:00<?, ?batch/s]"
      ]
     },
     "metadata": {},
     "output_type": "display_data"
    },
    {
     "data": {
      "application/vnd.jupyter.widget-view+json": {
       "model_id": "70a5d07c5c574731b767e4a8230bc6ab",
       "version_major": 2,
       "version_minor": 0
      },
      "text/plain": [
       "  0%|          | 0/500 [00:00<?, ?batch/s]"
      ]
     },
     "metadata": {},
     "output_type": "display_data"
    },
    {
     "data": {
      "application/vnd.jupyter.widget-view+json": {
       "model_id": "261dcb9743a8420096b0e8cfc292c370",
       "version_major": 2,
       "version_minor": 0
      },
      "text/plain": [
       "  0%|          | 0/500 [00:00<?, ?batch/s]"
      ]
     },
     "metadata": {},
     "output_type": "display_data"
    },
    {
     "data": {
      "application/vnd.jupyter.widget-view+json": {
       "model_id": "57efca4e1c244525b59055ceeb4b03f3",
       "version_major": 2,
       "version_minor": 0
      },
      "text/plain": [
       "  0%|          | 0/500 [00:00<?, ?batch/s]"
      ]
     },
     "metadata": {},
     "output_type": "display_data"
    },
    {
     "name": "stdout",
     "output_type": "stream",
     "text": [
      "Saved checkpoint to /home/nhrot/Programming/Python/DeepLearning/DeepSampler/experiments/checkpoints2/checkpoint_epoch025.pth\n"
     ]
    },
    {
     "data": {
      "application/vnd.jupyter.widget-view+json": {
       "model_id": "06db2e2647b84bee8c61b6cdffb60ebe",
       "version_major": 2,
       "version_minor": 0
      },
      "text/plain": [
       "  0%|          | 0/500 [00:00<?, ?batch/s]"
      ]
     },
     "metadata": {},
     "output_type": "display_data"
    },
    {
     "data": {
      "application/vnd.jupyter.widget-view+json": {
       "model_id": "aa4b524d79414f12bb79f614985cdddd",
       "version_major": 2,
       "version_minor": 0
      },
      "text/plain": [
       "  0%|          | 0/500 [00:00<?, ?batch/s]"
      ]
     },
     "metadata": {},
     "output_type": "display_data"
    },
    {
     "data": {
      "application/vnd.jupyter.widget-view+json": {
       "model_id": "3ba8d05d4ec546aaa96fcf27c5308f62",
       "version_major": 2,
       "version_minor": 0
      },
      "text/plain": [
       "  0%|          | 0/500 [00:00<?, ?batch/s]"
      ]
     },
     "metadata": {},
     "output_type": "display_data"
    },
    {
     "data": {
      "application/vnd.jupyter.widget-view+json": {
       "model_id": "31b9f4592a2c4240b187515249b74a56",
       "version_major": 2,
       "version_minor": 0
      },
      "text/plain": [
       "  0%|          | 0/500 [00:00<?, ?batch/s]"
      ]
     },
     "metadata": {},
     "output_type": "display_data"
    },
    {
     "data": {
      "application/vnd.jupyter.widget-view+json": {
       "model_id": "339934b0d8a6424e9748a0893d3e9ac2",
       "version_major": 2,
       "version_minor": 0
      },
      "text/plain": [
       "  0%|          | 0/500 [00:00<?, ?batch/s]"
      ]
     },
     "metadata": {},
     "output_type": "display_data"
    },
    {
     "name": "stdout",
     "output_type": "stream",
     "text": [
      "Saved checkpoint to /home/nhrot/Programming/Python/DeepLearning/DeepSampler/experiments/checkpoints2/checkpoint_epoch030.pth\n"
     ]
    },
    {
     "data": {
      "application/vnd.jupyter.widget-view+json": {
       "model_id": "d0cc6b8acbfa44f9a80b1ea7d093c796",
       "version_major": 2,
       "version_minor": 0
      },
      "text/plain": [
       "  0%|          | 0/500 [00:00<?, ?batch/s]"
      ]
     },
     "metadata": {},
     "output_type": "display_data"
    },
    {
     "data": {
      "application/vnd.jupyter.widget-view+json": {
       "model_id": "3647a5657b3f483a9a5d80d45f51f117",
       "version_major": 2,
       "version_minor": 0
      },
      "text/plain": [
       "  0%|          | 0/500 [00:00<?, ?batch/s]"
      ]
     },
     "metadata": {},
     "output_type": "display_data"
    },
    {
     "data": {
      "application/vnd.jupyter.widget-view+json": {
       "model_id": "85a152b3a7a2426da6a294189095f5ca",
       "version_major": 2,
       "version_minor": 0
      },
      "text/plain": [
       "  0%|          | 0/500 [00:00<?, ?batch/s]"
      ]
     },
     "metadata": {},
     "output_type": "display_data"
    },
    {
     "data": {
      "application/vnd.jupyter.widget-view+json": {
       "model_id": "c894761bf81b4984a91906989f509c6d",
       "version_major": 2,
       "version_minor": 0
      },
      "text/plain": [
       "  0%|          | 0/500 [00:00<?, ?batch/s]"
      ]
     },
     "metadata": {},
     "output_type": "display_data"
    },
    {
     "data": {
      "application/vnd.jupyter.widget-view+json": {
       "model_id": "7bec8ec139f04d6aa962a9ff076233a2",
       "version_major": 2,
       "version_minor": 0
      },
      "text/plain": [
       "  0%|          | 0/500 [00:00<?, ?batch/s]"
      ]
     },
     "metadata": {},
     "output_type": "display_data"
    },
    {
     "name": "stdout",
     "output_type": "stream",
     "text": [
      "Saved checkpoint to /home/nhrot/Programming/Python/DeepLearning/DeepSampler/experiments/checkpoints2/checkpoint_epoch035.pth\n"
     ]
    },
    {
     "data": {
      "application/vnd.jupyter.widget-view+json": {
       "model_id": "a9fbe7f95838464280e5d8333fed1d4d",
       "version_major": 2,
       "version_minor": 0
      },
      "text/plain": [
       "  0%|          | 0/500 [00:00<?, ?batch/s]"
      ]
     },
     "metadata": {},
     "output_type": "display_data"
    },
    {
     "data": {
      "application/vnd.jupyter.widget-view+json": {
       "model_id": "e7c05adfe00a4b9587cf1b17fdd543ff",
       "version_major": 2,
       "version_minor": 0
      },
      "text/plain": [
       "  0%|          | 0/500 [00:00<?, ?batch/s]"
      ]
     },
     "metadata": {},
     "output_type": "display_data"
    },
    {
     "data": {
      "application/vnd.jupyter.widget-view+json": {
       "model_id": "2b9be6ebba7148e7847a1b34cf658079",
       "version_major": 2,
       "version_minor": 0
      },
      "text/plain": [
       "  0%|          | 0/500 [00:00<?, ?batch/s]"
      ]
     },
     "metadata": {},
     "output_type": "display_data"
    },
    {
     "data": {
      "application/vnd.jupyter.widget-view+json": {
       "model_id": "cff602b440394461a90a3791a68ac41b",
       "version_major": 2,
       "version_minor": 0
      },
      "text/plain": [
       "  0%|          | 0/500 [00:00<?, ?batch/s]"
      ]
     },
     "metadata": {},
     "output_type": "display_data"
    },
    {
     "data": {
      "application/vnd.jupyter.widget-view+json": {
       "model_id": "0b48c56f0c684b3eb34c3c8199db5a0c",
       "version_major": 2,
       "version_minor": 0
      },
      "text/plain": [
       "  0%|          | 0/500 [00:00<?, ?batch/s]"
      ]
     },
     "metadata": {},
     "output_type": "display_data"
    },
    {
     "name": "stdout",
     "output_type": "stream",
     "text": [
      "Saved checkpoint to /home/nhrot/Programming/Python/DeepLearning/DeepSampler/experiments/checkpoints2/checkpoint_epoch040.pth\n"
     ]
    },
    {
     "data": {
      "application/vnd.jupyter.widget-view+json": {
       "model_id": "ddfbfcae1d6d4fb3abc45114608c5301",
       "version_major": 2,
       "version_minor": 0
      },
      "text/plain": [
       "  0%|          | 0/500 [00:00<?, ?batch/s]"
      ]
     },
     "metadata": {},
     "output_type": "display_data"
    },
    {
     "data": {
      "application/vnd.jupyter.widget-view+json": {
       "model_id": "f33097f2334b4b38b7976f8683e0ac2b",
       "version_major": 2,
       "version_minor": 0
      },
      "text/plain": [
       "  0%|          | 0/500 [00:00<?, ?batch/s]"
      ]
     },
     "metadata": {},
     "output_type": "display_data"
    },
    {
     "data": {
      "application/vnd.jupyter.widget-view+json": {
       "model_id": "560d453a040e4cdcbda56bc59f96f4d7",
       "version_major": 2,
       "version_minor": 0
      },
      "text/plain": [
       "  0%|          | 0/500 [00:00<?, ?batch/s]"
      ]
     },
     "metadata": {},
     "output_type": "display_data"
    },
    {
     "data": {
      "application/vnd.jupyter.widget-view+json": {
       "model_id": "e43415ccafb94e5f9a1baec90c786b8b",
       "version_major": 2,
       "version_minor": 0
      },
      "text/plain": [
       "  0%|          | 0/500 [00:00<?, ?batch/s]"
      ]
     },
     "metadata": {},
     "output_type": "display_data"
    },
    {
     "data": {
      "application/vnd.jupyter.widget-view+json": {
       "model_id": "238b167113ed443284e3e9d3728abfc4",
       "version_major": 2,
       "version_minor": 0
      },
      "text/plain": [
       "  0%|          | 0/500 [00:00<?, ?batch/s]"
      ]
     },
     "metadata": {},
     "output_type": "display_data"
    },
    {
     "name": "stdout",
     "output_type": "stream",
     "text": [
      "Saved checkpoint to /home/nhrot/Programming/Python/DeepLearning/DeepSampler/experiments/checkpoints2/checkpoint_epoch045.pth\n"
     ]
    },
    {
     "data": {
      "application/vnd.jupyter.widget-view+json": {
       "model_id": "9c784acdaa294d5e9119a89cd6493f48",
       "version_major": 2,
       "version_minor": 0
      },
      "text/plain": [
       "  0%|          | 0/500 [00:00<?, ?batch/s]"
      ]
     },
     "metadata": {},
     "output_type": "display_data"
    },
    {
     "data": {
      "application/vnd.jupyter.widget-view+json": {
       "model_id": "a37cf92ba8194f7695e31b53236a490c",
       "version_major": 2,
       "version_minor": 0
      },
      "text/plain": [
       "  0%|          | 0/500 [00:00<?, ?batch/s]"
      ]
     },
     "metadata": {},
     "output_type": "display_data"
    },
    {
     "data": {
      "application/vnd.jupyter.widget-view+json": {
       "model_id": "7d89c4543b394fd0b35487a2086e8423",
       "version_major": 2,
       "version_minor": 0
      },
      "text/plain": [
       "  0%|          | 0/500 [00:00<?, ?batch/s]"
      ]
     },
     "metadata": {},
     "output_type": "display_data"
    },
    {
     "data": {
      "application/vnd.jupyter.widget-view+json": {
       "model_id": "2e8a75b8c76445379daab4df8c759f68",
       "version_major": 2,
       "version_minor": 0
      },
      "text/plain": [
       "  0%|          | 0/500 [00:00<?, ?batch/s]"
      ]
     },
     "metadata": {},
     "output_type": "display_data"
    },
    {
     "data": {
      "application/vnd.jupyter.widget-view+json": {
       "model_id": "cdd95501ae1840a3ac836b2091b20fee",
       "version_major": 2,
       "version_minor": 0
      },
      "text/plain": [
       "  0%|          | 0/500 [00:00<?, ?batch/s]"
      ]
     },
     "metadata": {},
     "output_type": "display_data"
    },
    {
     "name": "stdout",
     "output_type": "stream",
     "text": [
      "Saved checkpoint to /home/nhrot/Programming/Python/DeepLearning/DeepSampler/experiments/checkpoints2/checkpoint_epoch050.pth\n",
      "\n",
      "Training completed in 4602.0 seconds\n"
     ]
    }
   ],
   "source": [
    "try:\n",
    "    history = train_pipeline(\n",
    "        model=model,\n",
    "        criterion=criterion,\n",
    "        optimizer=torch.optim.AdamW(model.parameters()),\n",
    "        dataloader=train_loader,\n",
    "        epochs=50,\n",
    "        checkpoint_dir=checkpoint_path,\n",
    "        checkpoint_every=5,\n",
    "        device=device,\n",
    "    )\n",
    "except RuntimeError as error:\n",
    "    if \"out of memory\" in str(error):\n",
    "        print(\"Error: No se pudo asignar memoria en la GPU. Liberando memoria...\")\n",
    "        torch.cuda.empty_cache()\n",
    "    else:\n",
    "        print(\"Se produjo un error:\", error)\n",
    "    raise"
   ]
  },
  {
   "cell_type": "code",
   "execution_count": 10,
   "metadata": {},
   "outputs": [
    {
     "data": {
      "image/png": "[encoded data removed]",
      "text/plain": [
       "<Figure size 1000x800 with 2 Axes>"
      ]
     },
     "metadata": {},
     "output_type": "display_data"
    }
   ],
   "source": [
    "# Supongamos que 'history' es un diccionario con las llaves:\n",
    "# \"epoch_loss\", \"learning_rate\", \"batch_losses\"\n",
    "# Por ejemplo:\n",
    "# history = {\n",
    "#     \"epoch_loss\": [0.9, 0.8, 0.7, ...],\n",
    "#     \"learning_rate\": [0.001, 0.001, 0.0009, ...],\n",
    "#     \"batch_losses\": [[1.0, 0.95, ...], [0.9, 0.85, ...], ...]\n",
    "# }\n",
    "\n",
    "fig, axs = plt.subplots(2, 1, figsize=(10, 8), constrained_layout=True)\n",
    "\n",
    "# Plot para \"Epoch Loss\"\n",
    "axs[0].plot(history[\"loss\"], marker=\"o\", color=\"blue\", label=\"Epoch Loss\")\n",
    "axs[0].set_title(\"Loss por Época\", fontsize=14)\n",
    "axs[0].set_xlabel(\"Época\", fontsize=12)\n",
    "axs[0].set_ylabel(\"Loss\", fontsize=12)\n",
    "axs[0].legend()\n",
    "axs[0].grid(True)\n",
    "\n",
    "# Plot para \"Learning Rate\"\n",
    "axs[1].plot(\n",
    "    history[\"learning_rate\"],\n",
    "    marker=\"s\",\n",
    "    linestyle=\"--\",\n",
    "    color=\"green\",\n",
    "    label=\"Learning Rate\",\n",
    ")\n",
    "axs[1].set_title(\"Tasa de Aprendizaje\", fontsize=14)\n",
    "axs[1].set_xlabel(\"Época\", fontsize=12)\n",
    "axs[1].set_ylabel(\"Learning Rate\", fontsize=12)\n",
    "axs[1].legend()\n",
    "axs[1].grid(True)\n",
    "plt.show()"
   ]
  },
  {
   "cell_type": "markdown",
   "metadata": {},
   "source": [
    "## Testing"
   ]
  },
  {
   "cell_type": "code",
   "execution_count": 4,
   "metadata": {},
   "outputs": [
    {
     "data": {
      "text/plain": [
       "<All keys matched successfully>"
      ]
     },
     "execution_count": 4,
     "metadata": {},
     "output_type": "execute_result"
    }
   ],
   "source": [
    "epoch = 50\n",
    "model.load_state_dict(\n",
    "    torch.load(os.path.join(checkpoint_path, f\"checkpoint_epoch{epoch:03d}.pth\"))\n",
    ")"
   ]
  },
  {
   "cell_type": "code",
   "execution_count": 12,
   "metadata": {},
   "outputs": [],
   "source": [
    "random_folder = np.random.choice(os.listdir(test_path))\n",
    "audio_mixture = os.path.join(test_path, random_folder, \"mixture.wav\")\n",
    "\n",
    "extracted_sources = infer_pipeline(\n",
    "    model=model,\n",
    "    mixture=audio_mixture,\n",
    "    sample_rate=SR,\n",
    "    chunk_seconds=CHUNK_DUR,\n",
    "    overlap=OVERLAP,\n",
    "    n_fft=NFFT,\n",
    "    hop_length=HOP,\n",
    "    device=device,\n",
    ")"
   ]
  },
  {
   "cell_type": "code",
   "execution_count": 13,
   "metadata": {},
   "outputs": [],
   "source": [
    "fig, axs = plt.subplots(len(instruments), 2, figsize=(20, 16), constrained_layout=True)\n",
    "\n",
    "for i, inst in enumerate(instruments):\n",
    "    # Load the original waveform from file.\n",
    "    orig_file_path = os.path.join(test_path, random_folder, f\"{inst}.wav\")\n",
    "    wav, _ = librosa.load(orig_file_path, sr=SR)\n",
    "\n",
    "    # Plot the original waveform.\n",
    "    axs[i, 0].plot(wav, color=\"tab:blue\")\n",
    "    axs[i, 0].set_title(f\"{inst.capitalize()} (Original)\", fontsize=16)\n",
    "    axs[i, 0].set_xlabel(\"Samples\", fontsize=14)\n",
    "    axs[i, 0].set_ylabel(\"Amplitude\", fontsize=14)\n",
    "    axs[i, 0].grid(True)\n",
    "\n",
    "    # Get the extracted waveform.\n",
    "    pred = extracted_sources[inst]\n",
    "    # If waveform has more than one channel, use the first channel for plotting.\n",
    "    if pred.ndim > 1:\n",
    "        pred = pred[0]\n",
    "    pred_np = pred.cpu().numpy()\n",
    "\n",
    "    # Plot the extracted waveform.\n",
    "    axs[i, 1].plot(pred_np, color=\"tab:orange\")\n",
    "    axs[i, 1].set_title(f\"{inst.capitalize()} (Extracted)\", fontsize=16)\n",
    "    axs[i, 1].set_xlabel(\"Samples\", fontsize=14)\n",
    "    axs[i, 1].set_ylabel(\"Amplitude\", fontsize=14)\n",
    "    axs[i, 1].grid(True)\n",
    "\n",
    "    # Free memory for this loop iteration.\n",
    "    del wav, pred, pred_np\n",
    "\n",
    "# Save the complete figure as one large PNG file in RESULTS_PATH.\n",
    "output_file = os.path.join(results_path, \"dino_sampler2\", \"combined_results.png\")\n",
    "plt.savefig(output_file, bbox_inches=\"tight\", dpi=300)\n",
    "plt.close(fig)"
   ]
  },
  {
   "cell_type": "code",
   "execution_count": 14,
   "metadata": {},
   "outputs": [
    {
     "name": "stdout",
     "output_type": "stream",
     "text": [
      "Saving drums to /home/nhrot/Programming/Python/DeepLearning/DeepSampler/experiments/results/dino_sampler/drums.wav\n"
     ]
    },
    {
     "name": "stderr",
     "output_type": "stream",
     "text": [
      "/home/nhrot/.pyenv/versions/3.10.16/envs/ia_ml/lib/python3.10/site-packages/matplotlib/axes/_axes.py:8233: RuntimeWarning: divide by zero encountered in log10\n",
      "  Z = 10. * np.log10(spec)\n"
     ]
    },
    {
     "name": "stdout",
     "output_type": "stream",
     "text": [
      "Saving bass to /home/nhrot/Programming/Python/DeepLearning/DeepSampler/experiments/results/dino_sampler/bass.wav\n",
      "Saving other to /home/nhrot/Programming/Python/DeepLearning/DeepSampler/experiments/results/dino_sampler/other.wav\n",
      "Saving vocals to /home/nhrot/Programming/Python/DeepLearning/DeepSampler/experiments/results/dino_sampler/vocals.wav\n"
     ]
    }
   ],
   "source": [
    "import torchaudio\n",
    "\n",
    "for inst in instruments:\n",
    "    # Save waveform\n",
    "    file_path = os.path.join(results_path, \"dino_sampler\", f\"{inst}.wav\")\n",
    "    print(f\"Saving {inst} to {file_path}\")\n",
    "\n",
    "    waveform = extracted_sources[inst]\n",
    "    # Ensure waveform is 2D: if it's 1D, add a channel dimension.\n",
    "    if waveform.ndim == 1:\n",
    "        waveform = waveform.unsqueeze(0)\n",
    "    # Convert waveform to float32, which is supported by torchaudio.\n",
    "    waveform = waveform.to(torch.float32)\n",
    "    torchaudio.save(file_path, waveform.cpu(), SR)\n",
    "\n",
    "    # Save spectrogram image\n",
    "    file_path = os.path.join(results_path, \"dino_sampler\", f\"{inst}.png\")\n",
    "    plt.figure(figsize=(30, 10))\n",
    "    # Use the first channel if there are multiple channels.\n",
    "    signal_to_plot = waveform[0].cpu().numpy()\n",
    "    plt.specgram(signal_to_plot, NFFT=NFFT, Fs=SR, noverlap=OVERLAP)\n",
    "    plt.axis(\"off\")\n",
    "    plt.savefig(file_path, bbox_inches=\"tight\")\n",
    "    plt.close()"
   ]
  },
  {
   "cell_type": "code",
   "execution_count": 5,
   "metadata": {},
   "outputs": [
    {
     "name": "stderr",
     "output_type": "stream",
     "text": [
      "Evaluating: 100%|██████████| 50/50 [03:41<00:00,  4.43s/it]\n"
     ]
    }
   ],
   "source": [
    "eval_results = eval_pipeline(\n",
    "    model=model,\n",
    "    dataset_path=test_path,\n",
    "    sample_rate=SR,\n",
    "    chunk_seconds=CHUNK_DUR,\n",
    "    overlap=OVERLAP,\n",
    "    n_fft=NFFT,\n",
    "    hop_length=HOP,\n",
    "    device=device,\n",
    ")"
   ]
  },
  {
   "cell_type": "code",
   "execution_count": 6,
   "metadata": {},
   "outputs": [
    {
     "data": {
      "text/plain": [
       "({'vocals': -52.421106796264645,\n",
       "  'drums': -51.57696266174317,\n",
       "  'bass': -47.93666145324707,\n",
       "  'other': -57.16883140563965},\n",
       " {'vocals': [-57.67748260498047,\n",
       "   -66.74159240722656,\n",
       "   -85.67454528808594,\n",
       "   -58.46195602416992,\n",
       "   -54.603538513183594,\n",
       "   -47.926578521728516,\n",
       "   -44.64633560180664,\n",
       "   -47.07961654663086,\n",
       "   -41.0163688659668,\n",
       "   -42.90525436401367,\n",
       "   -45.040992736816406,\n",
       "   -58.06903076171875,\n",
       "   -94.92652130126953,\n",
       "   -37.28619384765625,\n",
       "   -39.882999420166016,\n",
       "   -44.318485260009766,\n",
       "   -64.55949401855469,\n",
       "   -63.858917236328125,\n",
       "   -49.87232208251953,\n",
       "   -51.941246032714844,\n",
       "   -53.1357536315918,\n",
       "   -67.133544921875,\n",
       "   -42.82447814941406,\n",
       "   -46.942283630371094,\n",
       "   -53.17963409423828,\n",
       "   -54.88227844238281,\n",
       "   -39.664573669433594,\n",
       "   -59.1416015625,\n",
       "   -48.56093978881836,\n",
       "   -45.66940689086914,\n",
       "   -61.5842399597168,\n",
       "   -42.89604568481445,\n",
       "   -55.78525924682617,\n",
       "   -53.2874755859375,\n",
       "   -43.230648040771484,\n",
       "   -40.263065338134766,\n",
       "   -41.99641418457031,\n",
       "   -43.57160949707031,\n",
       "   -51.92425537109375,\n",
       "   -43.14502716064453,\n",
       "   -52.67521667480469,\n",
       "   -43.30348205566406,\n",
       "   -68.6766586303711,\n",
       "   -56.509849548339844,\n",
       "   -41.82856750488281,\n",
       "   -51.58448028564453,\n",
       "   -58.571441650390625,\n",
       "   -51.69393539428711,\n",
       "   -72.83934783935547,\n",
       "   -38.064353942871094],\n",
       "  'drums': [-48.6191520690918,\n",
       "   -60.22583770751953,\n",
       "   -47.01646423339844,\n",
       "   -48.04161834716797,\n",
       "   -55.926124572753906,\n",
       "   -60.32850646972656,\n",
       "   -60.79144287109375,\n",
       "   -53.30366134643555,\n",
       "   -63.269161224365234,\n",
       "   -56.7393684387207,\n",
       "   -41.47714614868164,\n",
       "   -43.161895751953125,\n",
       "   -62.705135345458984,\n",
       "   -53.742340087890625,\n",
       "   -42.73603439331055,\n",
       "   -59.259864807128906,\n",
       "   -75.98077392578125,\n",
       "   -46.50398635864258,\n",
       "   -45.40793991088867,\n",
       "   -57.06462478637695,\n",
       "   -47.68769836425781,\n",
       "   -48.44820022583008,\n",
       "   -47.30796432495117,\n",
       "   -41.46052932739258,\n",
       "   -56.77577209472656,\n",
       "   -48.091514587402344,\n",
       "   -59.339881896972656,\n",
       "   -58.107357025146484,\n",
       "   -62.30766677856445,\n",
       "   -44.88569259643555,\n",
       "   -45.33345031738281,\n",
       "   -50.088401794433594,\n",
       "   -42.04547882080078,\n",
       "   -42.61865997314453,\n",
       "   -51.44388198852539,\n",
       "   -46.528099060058594,\n",
       "   -42.071006774902344,\n",
       "   -47.43058776855469,\n",
       "   -61.201812744140625,\n",
       "   -42.10193634033203,\n",
       "   -55.09779357910156,\n",
       "   -52.604461669921875,\n",
       "   -52.560302734375,\n",
       "   -48.301177978515625,\n",
       "   -70.37533569335938,\n",
       "   -46.99357986450195,\n",
       "   -46.546417236328125,\n",
       "   -43.11803436279297,\n",
       "   -56.71063995361328,\n",
       "   -38.96371841430664],\n",
       "  'bass': [-59.489219665527344,\n",
       "   -41.27214813232422,\n",
       "   -60.20929718017578,\n",
       "   -34.41898727416992,\n",
       "   -42.2359504699707,\n",
       "   -48.482643127441406,\n",
       "   -47.08148193359375,\n",
       "   -41.10931396484375,\n",
       "   -28.799373626708984,\n",
       "   -52.22865295410156,\n",
       "   -37.8153190612793,\n",
       "   -49.444236755371094,\n",
       "   -52.83945083618164,\n",
       "   -43.63045120239258,\n",
       "   -63.08070755004883,\n",
       "   -41.31658172607422,\n",
       "   -73.26097106933594,\n",
       "   -45.25962829589844,\n",
       "   -66.90887451171875,\n",
       "   -44.222904205322266,\n",
       "   -42.29490280151367,\n",
       "   -42.714698791503906,\n",
       "   -42.36599349975586,\n",
       "   -48.71448516845703,\n",
       "   -44.23045349121094,\n",
       "   -47.99757385253906,\n",
       "   -59.09992218017578,\n",
       "   -38.88405227661133,\n",
       "   -57.671661376953125,\n",
       "   -50.10601806640625,\n",
       "   -61.33772277832031,\n",
       "   -54.30436706542969,\n",
       "   -53.01483154296875,\n",
       "   -39.72036361694336,\n",
       "   -42.66195297241211,\n",
       "   -48.09505844116211,\n",
       "   -36.108890533447266,\n",
       "   -51.54723358154297,\n",
       "   -53.61412811279297,\n",
       "   -58.66279220581055,\n",
       "   -62.790714263916016,\n",
       "   -33.30297088623047,\n",
       "   -44.1112060546875,\n",
       "   -50.279701232910156,\n",
       "   -36.6909294128418,\n",
       "   -33.904781341552734,\n",
       "   -43.998313903808594,\n",
       "   -54.284446716308594,\n",
       "   -36.658660888671875,\n",
       "   -54.55805206298828],\n",
       "  'other': [-76.60745239257812,\n",
       "   -74.09518432617188,\n",
       "   -53.932647705078125,\n",
       "   -50.84663772583008,\n",
       "   -51.58423614501953,\n",
       "   -50.47051239013672,\n",
       "   -58.17237091064453,\n",
       "   -54.692100524902344,\n",
       "   -59.10398864746094,\n",
       "   -53.50680923461914,\n",
       "   -42.47774124145508,\n",
       "   -47.16474151611328,\n",
       "   -62.24837875366211,\n",
       "   -70.11941528320312,\n",
       "   -47.30544662475586,\n",
       "   -71.42310333251953,\n",
       "   -65.1689682006836,\n",
       "   -54.525978088378906,\n",
       "   -45.81355285644531,\n",
       "   -75.01336669921875,\n",
       "   -54.0799560546875,\n",
       "   -44.59185028076172,\n",
       "   -45.42597198486328,\n",
       "   -51.773162841796875,\n",
       "   -58.07200622558594,\n",
       "   -54.69976043701172,\n",
       "   -59.133522033691406,\n",
       "   -55.49160385131836,\n",
       "   -50.86016082763672,\n",
       "   -57.35346984863281,\n",
       "   -53.14459228515625,\n",
       "   -54.48956298828125,\n",
       "   -72.8184814453125,\n",
       "   -51.83174133300781,\n",
       "   -58.293365478515625,\n",
       "   -46.855751037597656,\n",
       "   -63.31683349609375,\n",
       "   -58.16027069091797,\n",
       "   -60.35249710083008,\n",
       "   -57.998573303222656,\n",
       "   -62.74257278442383,\n",
       "   -51.79150390625,\n",
       "   -48.30421829223633,\n",
       "   -52.59868621826172,\n",
       "   -56.13549041748047,\n",
       "   -83.14720153808594,\n",
       "   -63.913841247558594,\n",
       "   -58.672584533691406,\n",
       "   -51.62796401977539,\n",
       "   -56.49174118041992]})"
      ]
     },
     "execution_count": 6,
     "metadata": {},
     "output_type": "execute_result"
    }
   ],
   "source": [
    "eval_results"
   ]
  }
 ],
 "metadata": {
  "kernelspec": {
   "display_name": "ia_ml",
   "language": "python",
   "name": "python3"
  },
  "language_info": {
   "codemirror_mode": {
    "name": "ipython",
    "version": 3
   },
   "file_extension": ".py",
   "mimetype": "text/x-python",
   "name": "python",
   "nbconvert_exporter": "python",
   "pygments_lexer": "ipython3",
   "version": "3.10.16"
  }
 },
 "nbformat": 4,
 "nbformat_minor": 2
}
