{
 "cells": [
  {
   "cell_type": "code",
   "execution_count": 1,
   "metadata": {},
   "outputs": [],
   "source": [
    "import os\n",
    "import sys\n",
    "\n",
    "project_root = os.getcwd()\n",
    "while \"src\" not in os.listdir(project_root):\n",
    "    project_root = os.path.dirname(project_root)\n",
    "sys.path.append(project_root)"
   ]
  },
  {
   "cell_type": "code",
   "execution_count": 2,
   "metadata": {},
   "outputs": [],
   "source": [
    "import torch\n",
    "from src.utils.training import MultiSourceL1Loss, MultiSourceMultiScaleSpectralLoss"
   ]
  },
  {
   "cell_type": "code",
   "execution_count": 3,
   "metadata": {},
   "outputs": [],
   "source": [
    "# Example weights for 4 channels (e.g., vocals, drums, bass, other)\n",
    "channel_weights = [0.4, 0.3, 0.2, 0.1]\n",
    "\n",
    "output_spec = torch.randn(4, 1025, 173, requires_grad=True)  # Example output spectrogram\n",
    "target_spec = torch.randn(4, 1025, 173)  # Example target spectrogram"
   ]
  },
  {
   "cell_type": "code",
   "execution_count": 4,
   "metadata": {},
   "outputs": [],
   "source": [
    "l1_loss = MultiSourceL1Loss(weights=channel_weights)\n",
    "spectral_loss = MultiSourceMultiScaleSpectralLoss(weights=channel_weights, scales=[1, 2, 4], distance=\"l1\")\n",
    "\n",
    "loss = l1_loss(output_spec, target_spec)\n",
    "loss.backward()  # Backpropagate the loss\n",
    "\n",
    "loss = spectral_loss(output_spec, target_spec)\n",
    "loss.backward()  # Backpropagate the loss"
   ]
  }
 ],
 "metadata": {
  "kernelspec": {
   "display_name": "ia_ml",
   "language": "python",
   "name": "python3"
  },
  "language_info": {
   "codemirror_mode": {
    "name": "ipython",
    "version": 3
   },
   "file_extension": ".py",
   "mimetype": "text/x-python",
   "name": "python",
   "nbconvert_exporter": "python",
   "pygments_lexer": "ipython3",
   "version": "3.10.16"
  }
 },
 "nbformat": 4,
 "nbformat_minor": 2
}
