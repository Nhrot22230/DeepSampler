{
 "cells": [
  {
   "cell_type": "code",
   "execution_count": null,
   "metadata": {},
   "outputs": [],
   "source": [
    "import os\n",
    "import sys\n",
    "\n",
    "project_root = os.getcwd()\n",
    "while \"src\" not in os.listdir(project_root):\n",
    "    project_root = os.path.dirname(project_root)\n",
    "sys.path.append(project_root)"
   ]
  },
  {
   "cell_type": "code",
   "execution_count": null,
   "metadata": {},
   "outputs": [],
   "source": [
    "import torch\n",
    "from src.models import SCUNet\n",
    "\n",
    "SR = 44100\n",
    "NFFT = 2048\n",
    "HOP = 512\n",
    "CHUNK_DUR = 2\n",
    "OVERLAP = 0\n",
    "\n",
    "BATCH_SIZE = 2\n",
    "\n",
    "# Model parameters\n",
    "IN_CHANNELS = 1\n",
    "OUT_CHANNELS = 4\n",
    "BASE_CHANNELS = 32\n",
    "DEPTH = 4\n",
    "\n",
    "\n",
    "input_shape = (\n",
    "    BATCH_SIZE,\n",
    "    IN_CHANNELS,\n",
    "    NFFT // 2 + 1,\n",
    "    CHUNK_DUR * SR // HOP + 1,\n",
    ")\n",
    "output_shape = (\n",
    "    BATCH_SIZE,\n",
    "    OUT_CHANNELS,\n",
    "    NFFT // 2 + 1,\n",
    "    CHUNK_DUR * SR // HOP + 1,\n",
    ")\n",
    "\n",
    "print(input_shape, output_shape)"
   ]
  },
  {
   "cell_type": "code",
   "execution_count": null,
   "metadata": {},
   "outputs": [],
   "source": [
    "rand_input = torch.randn(input_shape)\n",
    "rand_target = torch.randn(output_shape)\n",
    "\n",
    "model = SCUNet(\n",
    "    in_channels=IN_CHANNELS,\n",
    "    out_channels=OUT_CHANNELS,\n",
    "    base_channels=BASE_CHANNELS,\n",
    "    depth=DEPTH,\n",
    ")\n",
    "model.eval()"
   ]
  },
  {
   "cell_type": "code",
   "execution_count": null,
   "metadata": {},
   "outputs": [],
   "source": [
    "output = model(rand_input)\n",
    "print(output.shape)"
   ]
  },
  {
   "cell_type": "code",
   "execution_count": null,
   "metadata": {},
   "outputs": [],
   "source": [
    "from src.utils.train.losses import MultiSourceLoss\n",
    "\n",
    "loss_fn = MultiSourceLoss(weights=[1, 1, 1, 1])\n",
    "loss = loss_fn(output, rand_target)\n",
    "print(loss)"
   ]
  }
 ],
 "metadata": {
  "kernelspec": {
   "display_name": "ia_ml",
   "language": "python",
   "name": "python3"
  },
  "language_info": {
   "codemirror_mode": {
    "name": "ipython",
    "version": 3
   },
   "file_extension": ".py",
   "mimetype": "text/x-python",
   "name": "python",
   "nbconvert_exporter": "python",
   "pygments_lexer": "ipython3",
   "version": "3.10.16"
  }
 },
 "nbformat": 4,
 "nbformat_minor": 2
}
