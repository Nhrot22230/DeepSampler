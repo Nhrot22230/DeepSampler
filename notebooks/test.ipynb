{
 "cells": [
  {
   "cell_type": "code",
   "execution_count": 4,
   "metadata": {},
   "outputs": [],
   "source": [
    "import os\n",
    "import sys\n",
    "\n",
    "project_root = os.getcwd()\n",
    "while \"src\" not in os.listdir(project_root):\n",
    "    project_root = os.path.dirname(project_root)\n",
    "sys.path.append(project_root)\n",
    "\n",
    "import torch\n",
    "from src.models import DeepSampler\n",
    "from src.utils.train.losses import MultiSourceLoss\n",
    "\n",
    "device = torch.device(\"cuda\" if torch.cuda.is_available() else \"cpu\")\n",
    "\n",
    "# Audio parameters\n",
    "SR = 44100\n",
    "NFFT = 2048\n",
    "HOP = 512\n",
    "CHUNK_DUR = 2\n",
    "OVERLAP = 0\n",
    "BATCH_SIZE = 4\n",
    "IN_CHANNELS = 1\n",
    "OUT_CHANNELS = 4"
   ]
  },
  {
   "cell_type": "code",
   "execution_count": 5,
   "metadata": {},
   "outputs": [
    {
     "name": "stdout",
     "output_type": "stream",
     "text": [
      "DINOs: input shape: torch.Size([4, 1, 1025, 173])\n",
      "DINOs: init_processed shape: torch.Size([4, 16, 1025, 173])\n",
      "DINOs: freq_attention shape: torch.Size([4, 16, 1025, 173])\n",
      "Encoder(16->32): input shape: torch.Size([4, 16, 1025, 173])\n",
      "Encoder(16->32): after_conv shape: torch.Size([4, 32, 1025, 173])\n",
      "Encoder(16->32): after_norm shape: torch.Size([4, 32, 1025, 173])\n",
      "Encoder(16->32): after_act shape: torch.Size([4, 32, 1025, 173])\n",
      "Encoder(16->32): after_pool shape: torch.Size([4, 32, 512, 86])\n",
      "Encoder(16->32): after_dropout shape: torch.Size([4, 32, 512, 86])\n",
      "DINOs: enc_1_out shape: torch.Size([4, 32, 512, 86])\n",
      "Encoder(32->64): input shape: torch.Size([4, 32, 512, 86])\n",
      "Encoder(32->64): after_conv shape: torch.Size([4, 64, 512, 86])\n",
      "Encoder(32->64): after_norm shape: torch.Size([4, 64, 512, 86])\n",
      "Encoder(32->64): after_act shape: torch.Size([4, 64, 512, 86])\n",
      "Encoder(32->64): after_pool shape: torch.Size([4, 64, 256, 43])\n",
      "Encoder(32->64): after_dropout shape: torch.Size([4, 64, 256, 43])\n",
      "DINOs: enc_2_out shape: torch.Size([4, 64, 256, 43])\n",
      "Encoder(64->128): input shape: torch.Size([4, 64, 256, 43])\n",
      "Encoder(64->128): after_conv shape: torch.Size([4, 128, 256, 43])\n",
      "Encoder(64->128): after_norm shape: torch.Size([4, 128, 256, 43])\n",
      "Encoder(64->128): after_act shape: torch.Size([4, 128, 256, 43])\n",
      "Encoder(64->128): after_pool shape: torch.Size([4, 128, 128, 21])\n",
      "Encoder(64->128): after_dropout shape: torch.Size([4, 128, 128, 21])\n",
      "DINOs: enc_3_out shape: torch.Size([4, 128, 128, 21])\n",
      "Encoder(128->256): input shape: torch.Size([4, 128, 128, 21])\n",
      "Encoder(128->256): after_conv shape: torch.Size([4, 256, 128, 21])\n",
      "Encoder(128->256): after_norm shape: torch.Size([4, 256, 128, 21])\n",
      "Encoder(128->256): after_act shape: torch.Size([4, 256, 128, 21])\n",
      "Encoder(128->256): after_pool shape: torch.Size([4, 256, 64, 10])\n",
      "Encoder(128->256): after_dropout shape: torch.Size([4, 256, 64, 10])\n",
      "DINOs: enc_4_out shape: torch.Size([4, 256, 64, 10])\n",
      "DINOs: trans_in shape: torch.Size([4, 256, 64, 10])\n",
      "Transformer(dim=256): input shape: torch.Size([4, 256, 64, 10])\n",
      "Transformer(dim=256): reshaped shape: torch.Size([4, 640, 256])\n",
      "Transformer(dim=256): transformed shape: torch.Size([4, 640, 256])\n",
      "Transformer(dim=256): output shape: torch.Size([4, 256, 64, 10])\n",
      "DINOs: trans_out shape: torch.Size([4, 256, 64, 10])\n",
      "Decoder(256+128->128): input shape: torch.Size([4, 256, 64, 10])\n",
      "Decoder(256+128->128): skip shape: torch.Size([4, 256, 128, 21])\n",
      "Decoder(256+128->128): after_upconv shape: torch.Size([4, 128, 128, 20])\n",
      "Decoder(256+128->128): after_resize shape: torch.Size([4, 128, 128, 21])\n",
      "Decoder(256+128->128): after_concat shape: torch.Size([4, 384, 128, 21])\n",
      "Decoder(256+128->128): after_conv shape: torch.Size([4, 128, 128, 21])\n",
      "Decoder(256+128->128): after_norm shape: torch.Size([4, 128, 128, 21])\n",
      "Decoder(256+128->128): after_act shape: torch.Size([4, 128, 128, 21])\n",
      "Decoder(256+128->128): after_dropout shape: torch.Size([4, 128, 128, 21])\n",
      "DINOs: dec_0_out shape: torch.Size([4, 128, 128, 21])\n",
      "Decoder(128+64->64): input shape: torch.Size([4, 128, 128, 21])\n",
      "Decoder(128+64->64): skip shape: torch.Size([4, 128, 256, 43])\n",
      "Decoder(128+64->64): after_upconv shape: torch.Size([4, 64, 256, 42])\n",
      "Decoder(128+64->64): after_resize shape: torch.Size([4, 64, 256, 43])\n",
      "Decoder(128+64->64): after_concat shape: torch.Size([4, 192, 256, 43])\n",
      "Decoder(128+64->64): after_conv shape: torch.Size([4, 64, 256, 43])\n",
      "Decoder(128+64->64): after_norm shape: torch.Size([4, 64, 256, 43])\n",
      "Decoder(128+64->64): after_act shape: torch.Size([4, 64, 256, 43])\n",
      "Decoder(128+64->64): after_dropout shape: torch.Size([4, 64, 256, 43])\n",
      "DINOs: dec_1_out shape: torch.Size([4, 64, 256, 43])\n",
      "Decoder(64+32->32): input shape: torch.Size([4, 64, 256, 43])\n",
      "Decoder(64+32->32): skip shape: torch.Size([4, 64, 512, 86])\n",
      "Decoder(64+32->32): after_upconv shape: torch.Size([4, 32, 512, 86])\n",
      "Decoder(64+32->32): after_concat shape: torch.Size([4, 96, 512, 86])\n",
      "Decoder(64+32->32): after_conv shape: torch.Size([4, 32, 512, 86])\n",
      "Decoder(64+32->32): after_norm shape: torch.Size([4, 32, 512, 86])\n",
      "Decoder(64+32->32): after_act shape: torch.Size([4, 32, 512, 86])\n",
      "Decoder(64+32->32): after_dropout shape: torch.Size([4, 32, 512, 86])\n",
      "DINOs: dec_2_out shape: torch.Size([4, 32, 512, 86])\n",
      "Decoder(32+16->16): input shape: torch.Size([4, 32, 512, 86])\n",
      "Decoder(32+16->16): skip shape: torch.Size([4, 32, 1025, 173])\n",
      "Decoder(32+16->16): after_upconv shape: torch.Size([4, 16, 1024, 172])\n",
      "Decoder(32+16->16): after_resize shape: torch.Size([4, 16, 1025, 173])\n",
      "Decoder(32+16->16): after_concat shape: torch.Size([4, 48, 1025, 173])\n",
      "Decoder(32+16->16): after_conv shape: torch.Size([4, 16, 1025, 173])\n",
      "Decoder(32+16->16): after_norm shape: torch.Size([4, 16, 1025, 173])\n",
      "Decoder(32+16->16): after_act shape: torch.Size([4, 16, 1025, 173])\n",
      "Decoder(32+16->16): after_dropout shape: torch.Size([4, 16, 1025, 173])\n",
      "DINOs: dec_3_out shape: torch.Size([4, 16, 1025, 173])\n",
      "DINOs: output shape: torch.Size([4, 4, 1025, 173])\n"
     ]
    },
    {
     "data": {
      "text/plain": [
       "torch.Size([4, 4, 1025, 173])"
      ]
     },
     "execution_count": 5,
     "metadata": {},
     "output_type": "execute_result"
    }
   ],
   "source": [
    "rand_input = torch.rand(\n",
    "    BATCH_SIZE, IN_CHANNELS, NFFT // 2 + 1, int(CHUNK_DUR * SR) // HOP + 1\n",
    ").to(device)\n",
    "rand_target = torch.rand(\n",
    "    BATCH_SIZE, OUT_CHANNELS, NFFT // 2 + 1, int(CHUNK_DUR * SR) // HOP + 1\n",
    ").to(device)\n",
    "model = DeepSampler(debug=True).to(device)\n",
    "# Test forward pass\n",
    "output = model(rand_input)\n",
    "output.shape"
   ]
  },
  {
   "cell_type": "code",
   "execution_count": 6,
   "metadata": {},
   "outputs": [
    {
     "name": "stdout",
     "output_type": "stream",
     "text": [
      "tensor(0.6045, device='cuda:0', grad_fn=<AddBackward0>)\n"
     ]
    }
   ],
   "source": [
    "# Test loss\n",
    "loss_fn = MultiSourceLoss([1, 1, 1, 1]).to(device)\n",
    "loss = loss_fn(output, rand_target)\n",
    "print(loss)\n",
    "loss.backward()"
   ]
  }
 ],
 "metadata": {
  "kernelspec": {
   "display_name": "ia_ml",
   "language": "python",
   "name": "python3"
  },
  "language_info": {
   "codemirror_mode": {
    "name": "ipython",
    "version": 3
   },
   "file_extension": ".py",
   "mimetype": "text/x-python",
   "name": "python",
   "nbconvert_exporter": "python",
   "pygments_lexer": "ipython3",
   "version": "3.10.16"
  }
 },
 "nbformat": 4,
 "nbformat_minor": 2
}
