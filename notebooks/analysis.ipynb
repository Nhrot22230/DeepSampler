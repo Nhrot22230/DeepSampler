{
 "cells": [
  {
   "cell_type": "code",
   "execution_count": null,
   "metadata": {},
   "outputs": [],
   "source": [
    "import os\n",
    "import sys\n",
    "\n",
    "project_root = os.getcwd()\n",
    "while \"src\" not in os.listdir(project_root):\n",
    "    project_root = os.path.dirname(project_root)\n",
    "sys.path.append(project_root)"
   ]
  },
  {
   "cell_type": "code",
   "execution_count": null,
   "metadata": {},
   "outputs": [],
   "source": [
    "import torch\n",
    "import numpy as np\n",
    "import matplotlib.pyplot as plt\n",
    "import librosa\n",
    "\n",
    "from IPython.display import Audio\n",
    "from src.utils.audio import load_audio\n",
    "from src.pipelines.data import process_audio_folder\n",
    "from src.pipelines import musdb_pipeline, train_pipeline, infer_pipeline\n",
    "from src.models import DeepSampler\n",
    "from src.utils.training.loss import MultiSourceLoss\n",
    "\n",
    "device = torch.device(\"cuda\" if torch.cuda.is_available() else \"cpu\")"
   ]
  },
  {
   "cell_type": "code",
   "execution_count": null,
   "metadata": {},
   "outputs": [],
   "source": [
    "SR = 44100\n",
    "NFFT = 2048\n",
    "HOP = 512\n",
    "CHUNK_DUR = 2\n",
    "OVERLAP = 0\n",
    "\n",
    "data_path = os.path.join(project_root, \"data\")\n",
    "musdb_path = os.path.join(data_path, \"musdb18hq\")\n",
    "train_path = os.path.join(data_path, \"musdb18hq\", \"train\")\n",
    "test_path = os.path.join(data_path, \"musdb18hq\", \"test\")\n",
    "output_path = os.path.join(data_path, \"processed\")\n",
    "\n",
    "train_files = os.listdir(train_path)\n",
    "train_files.sort()"
   ]
  },
  {
   "cell_type": "code",
   "execution_count": null,
   "metadata": {},
   "outputs": [],
   "source": [
    "random_sample = np.random.choice(train_files)\n",
    "mixture = load_audio(os.path.join(train_path, random_sample, \"mixture.wav\"))\n",
    "chunks = process_audio_folder(\n",
    "    audio_folder=os.path.join(train_path, random_sample),\n",
    "    sample_rate=SR,\n",
    "    chunk_duration=CHUNK_DUR,\n",
    "    overlap=OVERLAP,\n",
    ")"
   ]
  },
  {
   "cell_type": "code",
   "execution_count": null,
   "metadata": {},
   "outputs": [],
   "source": [
    "Audio(mixture, rate=SR)"
   ]
  },
  {
   "cell_type": "code",
   "execution_count": null,
   "metadata": {},
   "outputs": [],
   "source": [
    "Audio(chunks[3][\"mixture\"], rate=SR)"
   ]
  },
  {
   "cell_type": "code",
   "execution_count": null,
   "metadata": {},
   "outputs": [],
   "source": [
    "train_dataset = musdb_pipeline(\n",
    "    musdb_path=train_path,\n",
    "    sample_rate=SR,\n",
    "    n_fft=NFFT,\n",
    "    hop_length=HOP,\n",
    "    chunk_duration=CHUNK_DUR,\n",
    "    overlap=OVERLAP,\n",
    "    save_dir=output_path,\n",
    "    max_chunks=5000,\n",
    ")"
   ]
  },
  {
   "cell_type": "code",
   "execution_count": null,
   "metadata": {},
   "outputs": [],
   "source": [
    "model = DeepSampler()\n",
    "model.to(device)\n",
    "criterion = MultiSourceLoss(weights=[1, 1, 1, 1])\n",
    "optimizer = torch.optim.Adam(model.parameters())\n",
    "\n",
    "train_loader = torch.utils.data.DataLoader(\n",
    "    train_dataset,\n",
    "    batch_size=8,\n",
    "    shuffle=True,\n",
    ")"
   ]
  },
  {
   "cell_type": "code",
   "execution_count": null,
   "metadata": {},
   "outputs": [],
   "source": [
    "# example_item[INPUT][BATCH][CHANNEL] = MIXTURE SPECTROGRAM\n",
    "# example_tiem[OUTPUT][BATCH][CHANNEL] = [VOCALS, DRUMS, BASS, OTHER] SPECTROGRAM\n",
    "example_item = next(iter(train_loader))\n",
    "mixture_spectrogram = example_item[0][0][0]  # Mixture spectrogram\n",
    "source_spectrograms = example_item[1][0]  # Separated sources: [Vocals, Drums, Bass, Other]\n",
    "source_names = [\"Vocals\", \"Drums\", \"Bass\", \"Other\"]\n",
    "\n",
    "# Create subplots\n",
    "fig, axes = plt.subplots(1, 5, figsize=(20, 5))\n",
    "axes[0].imshow(mixture_spectrogram, aspect=\"auto\", origin=\"lower\")\n",
    "axes[0].set_title(\"Mixture\")\n",
    "axes[0].set_xlabel(\"Time\")\n",
    "axes[0].set_ylabel(\"Frequency\")\n",
    "axes[0].set_xticks([])\n",
    "axes[0].set_yticks([])\n",
    "\n",
    "for i in range(4):\n",
    "    axes[i + 1].imshow(source_spectrograms[i], aspect=\"auto\", origin=\"lower\")\n",
    "    axes[i + 1].set_title(source_names[i])\n",
    "    axes[i + 1].set_xlabel(\"Time\")\n",
    "    axes[i + 1].set_yticks([])\n",
    "    axes[i + 1].set_xticks([])\n",
    "plt.tight_layout()\n",
    "plt.show()"
   ]
  },
  {
   "cell_type": "code",
   "execution_count": null,
   "metadata": {},
   "outputs": [],
   "source": [
    "history = train_pipeline(\n",
    "    model=model,\n",
    "    criterion=criterion,\n",
    "    optimizer=optimizer,\n",
    "    dataloader=train_loader,\n",
    "    epochs=1,\n",
    "    device=device,\n",
    ")"
   ]
  },
  {
   "cell_type": "code",
   "execution_count": null,
   "metadata": {},
   "outputs": [],
   "source": [
    "# plot history = {\"epoch_loss\": [], \"learning_rate\": [], \"batch_losses\": []}\n",
    "# plt.plot(history[\"epoch_loss\"])\n",
    "# plt.title(\"Loss\")\n",
    "# plt.show()\n",
    "#\n",
    "# plt.plot(history[\"learning_rate\"])\n",
    "# plt.title(\"Learning Rate\")\n",
    "# plt.show()\n",
    "#\n",
    "# plt.plot(np.array(history[\"batch_losses\"]).flatten())\n",
    "# plt.title(\"Batch Losses\")\n",
    "# plt.show()"
   ]
  },
  {
   "cell_type": "code",
   "execution_count": null,
   "metadata": {},
   "outputs": [],
   "source": [
    "random_folder = np.random.choice(os.listdir(test_path))\n",
    "audio_mixture = os.path.join(musdb_path, \"test\", random_folder, \"mixture.wav\")"
   ]
  },
  {
   "cell_type": "code",
   "execution_count": null,
   "metadata": {},
   "outputs": [],
   "source": [
    "sources = infer_pipeline(\n",
    "    model=model,\n",
    "    mixture_path=audio_mixture,\n",
    "    sample_rate=SR,\n",
    "    chunk_seconds=CHUNK_DUR,\n",
    "    overlap=OVERLAP,\n",
    "    n_fft=NFFT,\n",
    "    hop_length=HOP,\n",
    "    device=device,\n",
    ")"
   ]
  },
  {
   "cell_type": "code",
   "execution_count": null,
   "metadata": {},
   "outputs": [],
   "source": [
    "inst = [\"vocals\", \"drums\", \"bass\", \"other\"]\n",
    "\n",
    "for instrument in inst:\n",
    "    file_path = os.path.join(musdb_path, \"test\", random_folder, f\"{instrument}.wav\")\n",
    "    wav, _ = librosa.load(file_path, sr=SR)\n",
    "    plt.figure(figsize=(20, 6))\n",
    "    plt.plot(wav)\n",
    "    plt.title(instrument)\n",
    "    plt.show()"
   ]
  },
  {
   "cell_type": "code",
   "execution_count": null,
   "metadata": {},
   "outputs": [],
   "source": [
    "for i, s in enumerate(inst):\n",
    "    plt.figure(figsize=(20, 6))\n",
    "    plt.plot(sources[s])\n",
    "    plt.title(s)\n",
    "    plt.show()"
   ]
  }
 ],
 "metadata": {
  "kernelspec": {
   "display_name": "ia_ml",
   "language": "python",
   "name": "python3"
  },
  "language_info": {
   "codemirror_mode": {
    "name": "ipython",
    "version": 3
   },
   "file_extension": ".py",
   "mimetype": "text/x-python",
   "name": "python",
   "nbconvert_exporter": "python",
   "pygments_lexer": "ipython3",
   "version": "3.10.16"
  }
 },
 "nbformat": 4,
 "nbformat_minor": 2
}
