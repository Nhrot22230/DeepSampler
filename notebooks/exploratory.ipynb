{
 "cells": [
  {
   "cell_type": "code",
   "execution_count": null,
   "metadata": {},
   "outputs": [],
   "source": [
    "import os\n",
    "import sys\n",
    "\n",
    "project_root = os.getcwd()\n",
    "while \"src\" not in os.listdir(project_root):\n",
    "    project_root = os.path.dirname(project_root)\n",
    "sys.path.append(project_root)"
   ]
  },
  {
   "cell_type": "code",
   "execution_count": null,
   "metadata": {},
   "outputs": [],
   "source": [
    "import torch\n",
    "import matplotlib.pyplot as plt\n",
    "from src.pipelines.data import musdb_pipeline\n",
    "# Global configuration for plotting\n",
    "plt.rcParams[\"figure.figsize\"] = [20, 6]"
   ]
  },
  {
   "cell_type": "code",
   "execution_count": null,
   "metadata": {},
   "outputs": [],
   "source": [
    "nfft = 2048\n",
    "hop_length = 512\n",
    "window = torch.hann_window(nfft)\n",
    "chunk_seconds = 2\n",
    "overlap = 0\n",
    "sr = 44100\n",
    "\n",
    "data_root = os.path.join(project_root, \"data\")\n",
    "musdb_root = os.path.join(data_root, \"musdb18hq\")\n",
    "\n",
    "if not os.path.exists(data_root):\n",
    "    raise FileNotFoundError(\n",
    "        \"No se encontró la carpeta data, por favor ejecute el script download_data.sh antes de ejecutar este script.\"\n",
    "    )"
   ]
  },
  {
   "cell_type": "code",
   "execution_count": null,
   "metadata": {},
   "outputs": [],
   "source": [
    "train_dataset = musdb_pipeline(\n",
    "    musdb_path=os.path.join(musdb_root, \"train\"),\n",
    "    nfft=nfft,\n",
    "    hop_length=hop_length,\n",
    "    window=window,\n",
    "    chunk_seconds=chunk_seconds,\n",
    "    overlap=overlap,\n",
    "    sample_rate=sr,\n",
    ")\n",
    "\n",
    "test_dataset = musdb_pipeline(\n",
    "    musdb_path=os.path.join(musdb_root, \"test\"),\n",
    "    nfft=nfft,\n",
    "    hop_length=hop_length,\n",
    "    window=window,\n",
    "    chunk_seconds=chunk_seconds,\n",
    "    overlap=overlap,\n",
    "    sample_rate=sr,\n",
    ")"
   ]
  }
 ],
 "metadata": {
  "kernelspec": {
   "display_name": "ia_ml",
   "language": "python",
   "name": "python3"
  },
  "language_info": {
   "codemirror_mode": {
    "name": "ipython",
    "version": 3
   },
   "file_extension": ".py",
   "mimetype": "text/x-python",
   "name": "python",
   "nbconvert_exporter": "python",
   "pygments_lexer": "ipython3",
   "version": "3.10.16"
  }
 },
 "nbformat": 4,
 "nbformat_minor": 2
}
