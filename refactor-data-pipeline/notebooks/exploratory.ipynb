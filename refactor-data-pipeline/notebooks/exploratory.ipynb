{
  "cells": [
    {
      "cell_type": "markdown",
      "metadata": {
        "id": "view-in-github",
        "colab_type": "text"
      },
      "source": [
        "<a href=\"https://colab.research.google.com/github/Nhrot22230/DeepSampler/blob/feat%2Frefactor-data-pipeline/refactor-data-pipeline/notebooks/exploratory.ipynb\" target=\"_parent\"><img src=\"https://colab.research.google.com/assets/colab-badge.svg\" alt=\"Open In Colab\"/></a>"
      ]
    },
    {
      "cell_type": "code",
      "source": [
        "!git clone https://github.com/Nhrot22230/DeepSampler\n",
        "!cd DeepSampler && git pull && git checkout feat/refactor-data-pipeline"
      ],
      "metadata": {
        "colab": {
          "base_uri": "https://localhost:8080/"
        },
        "id": "7pdCOZ7s8GcE",
        "outputId": "184e65ed-d243-4640-98e2-99071f727acc"
      },
      "execution_count": 1,
      "outputs": [
        {
          "output_type": "stream",
          "name": "stdout",
          "text": [
            "Cloning into 'DeepSampler'...\n",
            "remote: Enumerating objects: 597, done.\u001b[K\n",
            "remote: Counting objects: 100% (176/176), done.\u001b[K\n",
            "remote: Compressing objects: 100% (133/133), done.\u001b[K\n",
            "remote: Total 597 (delta 76), reused 130 (delta 43), pack-reused 421 (from 1)\u001b[K\n",
            "Receiving objects: 100% (597/597), 4.23 MiB | 12.18 MiB/s, done.\n",
            "Resolving deltas: 100% (298/298), done.\n"
          ]
        }
      ]
    },
    {
      "cell_type": "code",
      "source": [
        "!cd DeepSampler && make init"
      ],
      "metadata": {
        "collapsed": true,
        "id": "drq8O08o8Fmk"
      },
      "execution_count": null,
      "outputs": []
    },
    {
      "cell_type": "code",
      "execution_count": 16,
      "metadata": {
        "id": "mmf0vkz_8BEU"
      },
      "outputs": [],
      "source": [
        "import os\n",
        "import sys\n",
        "\n",
        "# Suponiendo que clonaste el repositorio en /content/DeepSampler\n",
        "project_root = os.path.join(os.getcwd(), \"DeepSampler\")\n",
        "if project_root not in sys.path:\n",
        "    sys.path.insert(0, project_root)"
      ]
    },
    {
      "cell_type": "code",
      "execution_count": 22,
      "metadata": {
        "id": "jGunjtK18BEV"
      },
      "outputs": [],
      "source": [
        "import torch\n",
        "import torch.optim as optim\n",
        "from torch.optim.lr_scheduler import StepLR, ReduceLROnPlateau\n",
        "import matplotlib.pyplot as plt\n",
        "from src.pipelines.data import musdb_pipeline\n",
        "from src.pipelines.train import train_pipeline\n",
        "from src.pipelines.inference import infer_pipeline\n",
        "from src.models.deep_sampler import DeepSampler\n",
        "from src.models.scunet import SCUNet\n",
        "from src.utils.training.loss import MultiSourceLoss, VGGFeatureLoss, MultiScaleLoss\n",
        "import numpy as np\n",
        "\n",
        "plt.rcParams[\"figure.figsize\"] = [20, 6]\n",
        "device = torch.device(\"cuda\" if torch.cuda.is_available() else \"cpu\")"
      ]
    },
    {
      "cell_type": "code",
      "execution_count": 23,
      "metadata": {
        "id": "0djtqzQE8BEV"
      },
      "outputs": [],
      "source": [
        "nfft = 2048\n",
        "hop_length = 512\n",
        "window = torch.hann_window(nfft)\n",
        "chunk_seconds = 2\n",
        "overlap = 0\n",
        "sr = 44100\n",
        "\n",
        "data_root = os.path.join(project_root, \"data\")\n",
        "musdb_root = os.path.join(data_root, \"musdb18hq\")\n",
        "\n",
        "if not os.path.exists(data_root):\n",
        "    raise FileNotFoundError(\n",
        "        \"No se encontró la carpeta data, por favor ejecute el script download_data.sh antes de ejecutar este script.\"\n",
        "    )"
      ]
    },
    {
      "cell_type": "code",
      "execution_count": null,
      "metadata": {
        "id": "_kjIamha8BEW"
      },
      "outputs": [],
      "source": [
        "# train_dataset = musdb_pipeline(\n",
        "#     musdb_path=os.path.join(musdb_root, \"train\"),\n",
        "#     nfft=nfft,\n",
        "#     hop_length=hop_length,\n",
        "#     window=window,\n",
        "#     chunk_seconds=chunk_seconds,\n",
        "#     overlap=overlap,\n",
        "#     sample_rate=sr,\n",
        "# )\n",
        "# train_dataloader = torch.utils.data.DataLoader(\n",
        "#     train_dataset, batch_size=16, shuffle=True\n",
        "# )"
      ]
    },
    {
      "cell_type": "code",
      "execution_count": 24,
      "metadata": {
        "colab": {
          "base_uri": "https://localhost:8080/"
        },
        "id": "Tpf9WCXU8BEW",
        "outputId": "347f44b6-fbf8-4675-c702-5a8d9d2d15f8"
      },
      "outputs": [
        {
          "output_type": "stream",
          "name": "stderr",
          "text": [
            "Procesando pistas: 100%|██████████| 50/50 [02:38<00:00,  3.17s/it]\n"
          ]
        }
      ],
      "source": [
        "test_dataset = musdb_pipeline(\n",
        "    musdb_path=os.path.join(musdb_root, \"test\"),\n",
        "    nfft=nfft,\n",
        "    hop_length=hop_length,\n",
        "    window=window,\n",
        "    chunk_seconds=chunk_seconds,\n",
        "    overlap=overlap,\n",
        "    sample_rate=sr,\n",
        ")\n",
        "\n",
        "test_dataloader = torch.utils.data.DataLoader(\n",
        "    test_dataset, batch_size=16, shuffle=False\n",
        ")"
      ]
    },
    {
      "cell_type": "code",
      "execution_count": 25,
      "metadata": {
        "id": "6Cbqi2l58BEW"
      },
      "outputs": [],
      "source": [
        "deep_sampler = DeepSampler(\n",
        "    input_channels=1,\n",
        "    output_channels=4,\n",
        "    base_channels=32,\n",
        "    depth=5,\n",
        "    dropout=0.1,\n",
        "    transformer_heads=4,\n",
        "    transformer_layers=4,\n",
        ")\n",
        "optimizer = optim.Adam(deep_sampler.parameters(), lr=1e-3, weight_decay=1e-5)\n",
        "scheduler = StepLR(optimizer, step_size=10, gamma=0.1)\n",
        "criterion = MultiSourceLoss(\n",
        "    weights=[1, 1, 1, 1],\n",
        "    distance=\"l1\",\n",
        ")\n",
        "\n",
        "factor = 1\n",
        "epochs = 5 * factor\n",
        "p1_epochs = 2 * factor"
      ]
    },
    {
      "cell_type": "code",
      "execution_count": null,
      "metadata": {
        "colab": {
          "base_uri": "https://localhost:8080/"
        },
        "id": "bGm8H7Gp8BEW",
        "outputId": "49586526-46d9-483e-e853-8d3b2d5b239c"
      },
      "outputs": [
        {
          "output_type": "stream",
          "name": "stderr",
          "text": [
            "\rEpoch 1/5:   0%|          | 0/389 [00:00<?, ?batch/s]"
          ]
        }
      ],
      "source": [
        "train_pipeline(\n",
        "    model=deep_sampler,\n",
        "    dataloader=test_dataloader,\n",
        "    criterion=criterion,\n",
        "    optimizer=optimizer,\n",
        "    scheduler=scheduler,\n",
        "    total_epochs=epochs,\n",
        "    phase1_epochs=p1_epochs,\n",
        "    device=device,\n",
        ")"
      ]
    },
    {
      "cell_type": "code",
      "execution_count": null,
      "metadata": {
        "id": "nCdYKL-u8BEW"
      },
      "outputs": [],
      "source": [
        "test_folders = os.listdir(os.path.join(musdb_root, \"test\"))\n",
        "random_folder = np.random.choice(test_folders)"
      ]
    },
    {
      "cell_type": "code",
      "execution_count": null,
      "metadata": {
        "id": "FJckK9es8BEW"
      },
      "outputs": [],
      "source": [
        "sources = infer_pipeline(\n",
        "    model=deep_sampler,\n",
        "    mixture_path=os.path.join(musdb_root, \"test\", random_folder, \"mixture.wav\"),\n",
        "    sample_rate=44100,\n",
        "    chunk_seconds=chunk_seconds,\n",
        "    overlap=overlap,\n",
        "    n_fft=nfft,\n",
        "    hop_length=hop_length,\n",
        "    window=window,\n",
        "    device=device,\n",
        ")"
      ]
    }
  ],
  "metadata": {
    "kernelspec": {
      "display_name": "ia_ml",
      "language": "python",
      "name": "python3"
    },
    "language_info": {
      "codemirror_mode": {
        "name": "ipython",
        "version": 3
      },
      "file_extension": ".py",
      "mimetype": "text/x-python",
      "name": "python",
      "nbconvert_exporter": "python",
      "pygments_lexer": "ipython3",
      "version": "3.10.16"
    },
    "colab": {
      "provenance": [],
      "include_colab_link": true
    }
  },
  "nbformat": 4,
  "nbformat_minor": 0
}