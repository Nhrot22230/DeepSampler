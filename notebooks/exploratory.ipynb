{
 "cells": [
  {
   "cell_type": "code",
   "execution_count": 12,
   "metadata": {},
   "outputs": [],
   "source": [
    "import os\n",
    "import numpy as np\n",
    "from typing import List, Dict, Any, Tuple\n",
    "import matplotlib.pyplot as plt\n",
    "import random\n",
    "import librosa\n",
    "\n",
    "# Global configuration for plotting\n",
    "plt.rcParams[\"figure.figsize\"] = [20, 6]"
   ]
  },
  {
   "cell_type": "code",
   "execution_count": 13,
   "metadata": {},
   "outputs": [],
   "source": [
    "project_root = os.getcwd()\n",
    "while \"src\" not in os.listdir(project_root):\n",
    "    project_root = os.path.dirname(project_root)\n",
    "\n",
    "data_root = os.path.join(project_root, \"data\", \"processed\", \"train\")\n",
    "\n",
    "if not os.path.exists(data_root):\n",
    "    raise FileNotFoundError(\n",
    "        \"No se encontró la carpeta data, por favor ejecute el script download_data.sh antes de ejecutar este script.\"\n",
    "    )"
   ]
  },
  {
   "cell_type": "code",
   "execution_count": null,
   "metadata": {},
   "outputs": [],
   "source": []
  }
 ],
 "metadata": {
  "kernelspec": {
   "display_name": "ia_ml",
   "language": "python",
   "name": "python3"
  },
  "language_info": {
   "codemirror_mode": {
    "name": "ipython",
    "version": 3
   },
   "file_extension": ".py",
   "mimetype": "text/x-python",
   "name": "python",
   "nbconvert_exporter": "python",
   "pygments_lexer": "ipython3",
   "version": "3.10.16"
  }
 },
 "nbformat": 4,
 "nbformat_minor": 2
}
